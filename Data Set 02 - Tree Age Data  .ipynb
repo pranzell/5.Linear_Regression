{
 "cells": [
  {
   "cell_type": "markdown",
   "metadata": {
    "deletable": true,
    "editable": true
   },
   "source": [
    "# Multiple Regression Linear Modelling"
   ]
  },
  {
   "cell_type": "markdown",
   "metadata": {
    "deletable": true,
    "editable": true
   },
   "source": [
    "### Data set 02:  Tree Age Data\n",
    "\n",
    "#### Problem Statemnt :#####\n",
    " \n",
    "\n",
    "Maple is the most commonly used wood for making Violin.The sound quality depends upon the age of the wood used. A group of Violin makers collected sample of Maple trees and tried to predict the age of the wood using ‘Radio carbon dating’ process. Carbon 14 isotop was used in the carbon dating process.\n",
    "\n",
    "Regression Problem: Predict the age of the wood\n",
    "\n",
    "Predict the age of wood sample using the given measures.\n",
    "\n",
    "Classification problem: Classify Maple tree as ‘Good’ quality or ‘Bad’ quality\n",
    "\n",
    "We have to classify Maple tree as “Good”\" quality wood or “Bad” quality wood for making a Violin. If the age of the tree is greater than 250 years, then it is considered as ‘Good’ quality.\n",
    "\n",
    "\n",
    "#### Splitting the data into Training and Testing Sets:\n",
    "\n",
    "Taken Aspect:\n",
    "- 80% Training Data\n",
    "\n",
    "- 20% Test Data\n",
    "\n",
    "\n",
    "."
   ]
  },
  {
   "cell_type": "markdown",
   "metadata": {
    "deletable": true,
    "editable": true
   },
   "source": [
    "### Importing  packages \n"
   ]
  },
  {
   "cell_type": "code",
   "execution_count": 439,
   "metadata": {
    "collapsed": false,
    "deletable": true,
    "editable": true
   },
   "outputs": [],
   "source": [
    "import pandas as pd\n",
    "import matplotlib.pyplot as plt\n",
    "import math\n",
    "import numpy as np\n",
    "import statsmodels.formula.api as sm\n",
    "import statsmodels.stats.diagnostic as sms\n",
    "\n",
    "#   Scikit Learn --\n",
    "import sklearn\n",
    "from sklearn.linear_model import LinearRegression\n",
    "from sklearn import cross_validation\n",
    "from sklearn.cross_validation import cross_val_score\n",
    "#Importing a package for Using Ridge and Lasso Analysis\n",
    "from sklearn.linear_model import Ridge, RidgeCV, Lasso, LassoCV\n",
    "from sklearn.preprocessing import scale\n",
    "# Splitting the Data Set into two Folds: Training and Testing using train_test_split()\n",
    "from sklearn.cross_validation import train_test_split\n",
    "# Tool for calculating MSE\n",
    "from sklearn.metrics import mean_squared_error\n",
    "from sklearn.preprocessing import scale\n",
    "\n",
    "#  Packages for Visualization --\n",
    "import seaborn as sns\n",
    "# Plotly\n",
    "from plotly.offline import plot  \n",
    "import plotly.plotly as py\n",
    "import plotly.graph_objs as go\n",
    "# Scatter Plot\n",
    "from pandas.tools.plotting import scatter_matrix"
   ]
  },
  {
   "cell_type": "code",
   "execution_count": 440,
   "metadata": {
    "collapsed": false,
    "deletable": true,
    "editable": true
   },
   "outputs": [],
   "source": [
    "%matplotlib inline"
   ]
  },
  {
   "cell_type": "markdown",
   "metadata": {
    "deletable": true,
    "editable": true
   },
   "source": [
    "### Reading from CSV Files"
   ]
  },
  {
   "cell_type": "code",
   "execution_count": 441,
   "metadata": {
    "collapsed": false,
    "deletable": true,
    "editable": true
   },
   "outputs": [],
   "source": [
    "data_classification = pd.read_csv('Ex02_TreeData_Classification.csv')\n",
    "data_regression = pd.read_csv('Ex02_TreeData_Regresion.csv')"
   ]
  },
  {
   "cell_type": "code",
   "execution_count": 442,
   "metadata": {
    "collapsed": false,
    "deletable": true,
    "editable": true
   },
   "outputs": [
    {
     "data": {
      "text/html": [
       "<div>\n",
       "<table border=\"1\" class=\"dataframe\">\n",
       "  <thead>\n",
       "    <tr style=\"text-align: right;\">\n",
       "      <th></th>\n",
       "      <th>N0</th>\n",
       "      <th>Nt</th>\n",
       "      <th>pH</th>\n",
       "      <th>PetalCount</th>\n",
       "      <th>Age</th>\n",
       "    </tr>\n",
       "  </thead>\n",
       "  <tbody>\n",
       "    <tr>\n",
       "      <th>count</th>\n",
       "      <td>100.000000</td>\n",
       "      <td>100.000000</td>\n",
       "      <td>100.000000</td>\n",
       "      <td>100.000000</td>\n",
       "      <td>100.000000</td>\n",
       "    </tr>\n",
       "    <tr>\n",
       "      <th>mean</th>\n",
       "      <td>15.185291</td>\n",
       "      <td>3.452463</td>\n",
       "      <td>5.990638</td>\n",
       "      <td>4.590000</td>\n",
       "      <td>244.453341</td>\n",
       "    </tr>\n",
       "    <tr>\n",
       "      <th>std</th>\n",
       "      <td>0.099542</td>\n",
       "      <td>0.998865</td>\n",
       "      <td>0.095833</td>\n",
       "      <td>0.494311</td>\n",
       "      <td>50.982339</td>\n",
       "    </tr>\n",
       "    <tr>\n",
       "      <th>min</th>\n",
       "      <td>14.927818</td>\n",
       "      <td>1.133692</td>\n",
       "      <td>5.803810</td>\n",
       "      <td>4.000000</td>\n",
       "      <td>151.991196</td>\n",
       "    </tr>\n",
       "    <tr>\n",
       "      <th>25%</th>\n",
       "      <td>15.106119</td>\n",
       "      <td>2.747087</td>\n",
       "      <td>5.919878</td>\n",
       "      <td>4.000000</td>\n",
       "      <td>204.301605</td>\n",
       "    </tr>\n",
       "    <tr>\n",
       "      <th>50%</th>\n",
       "      <td>15.192205</td>\n",
       "      <td>3.357409</td>\n",
       "      <td>5.975315</td>\n",
       "      <td>5.000000</td>\n",
       "      <td>241.336082</td>\n",
       "    </tr>\n",
       "    <tr>\n",
       "      <th>75%</th>\n",
       "      <td>15.249628</td>\n",
       "      <td>4.246761</td>\n",
       "      <td>6.056471</td>\n",
       "      <td>5.000000</td>\n",
       "      <td>273.111064</td>\n",
       "    </tr>\n",
       "    <tr>\n",
       "      <th>max</th>\n",
       "      <td>15.407726</td>\n",
       "      <td>5.889005</td>\n",
       "      <td>6.231370</td>\n",
       "      <td>5.000000</td>\n",
       "      <td>414.089924</td>\n",
       "    </tr>\n",
       "  </tbody>\n",
       "</table>\n",
       "</div>"
      ],
      "text/plain": [
       "               N0          Nt          pH  PetalCount         Age\n",
       "count  100.000000  100.000000  100.000000  100.000000  100.000000\n",
       "mean    15.185291    3.452463    5.990638    4.590000  244.453341\n",
       "std      0.099542    0.998865    0.095833    0.494311   50.982339\n",
       "min     14.927818    1.133692    5.803810    4.000000  151.991196\n",
       "25%     15.106119    2.747087    5.919878    4.000000  204.301605\n",
       "50%     15.192205    3.357409    5.975315    5.000000  241.336082\n",
       "75%     15.249628    4.246761    6.056471    5.000000  273.111064\n",
       "max     15.407726    5.889005    6.231370    5.000000  414.089924"
      ]
     },
     "execution_count": 442,
     "metadata": {},
     "output_type": "execute_result"
    }
   ],
   "source": [
    "data_regression.describe()"
   ]
  },
  {
   "cell_type": "markdown",
   "metadata": {
    "deletable": true,
    "editable": true
   },
   "source": [
    "## Selecting the Best Model - Feature Selection"
   ]
  },
  {
   "cell_type": "markdown",
   "metadata": {
    "deletable": true,
    "editable": true
   },
   "source": [
    "### 1. Scatter Plot "
   ]
  },
  {
   "cell_type": "code",
   "execution_count": 443,
   "metadata": {
    "collapsed": false,
    "deletable": true,
    "editable": true
   },
   "outputs": [
    {
     "data": {
      "image/png": "[encoded data removed]",
      "text/plain": [
       "<matplotlib.figure.Figure at 0x7f4d1af30f28>"
      ]
     },
     "metadata": {},
     "output_type": "display_data"
    }
   ],
   "source": [
    "scatter_matrix(data_regression, alpha=0.2, figsize=(10, 8), diagonal='kde')\n",
    "plt.xticks(())\n",
    "plt.yticks(())\n",
    "\n",
    "plt.show()"
   ]
  },
  {
   "cell_type": "markdown",
   "metadata": {
    "deletable": true,
    "editable": true
   },
   "source": [
    "Fig 1.0: Figure shows a Scatter plot with all the features against Age. N0 and pH are scattered showing very little impact on Age. While Nt tends to follow a pattern which can be taken into account. PetalCount also tends to be constant and this behaviour needs further examination."
   ]
  },
  {
   "cell_type": "markdown",
   "metadata": {
    "deletable": true,
    "editable": true
   },
   "source": [
    "For a large sample of data - hexbin, Age varies from min to max as seen in the plot"
   ]
  },
  {
   "cell_type": "markdown",
   "metadata": {
    "deletable": true,
    "editable": true
   },
   "source": [
    "### 2. Correlation Matrix"
   ]
  },
  {
   "cell_type": "code",
   "execution_count": 444,
   "metadata": {
    "collapsed": false,
    "deletable": true,
    "editable": true,
    "scrolled": true
   },
   "outputs": [
    {
     "data": {
      "text/html": [
       "<div>\n",
       "<table border=\"1\" class=\"dataframe\">\n",
       "  <thead>\n",
       "    <tr style=\"text-align: right;\">\n",
       "      <th></th>\n",
       "      <th>N0</th>\n",
       "      <th>Nt</th>\n",
       "      <th>pH</th>\n",
       "      <th>PetalCount</th>\n",
       "      <th>Age</th>\n",
       "    </tr>\n",
       "  </thead>\n",
       "  <tbody>\n",
       "    <tr>\n",
       "      <th>N0</th>\n",
       "      <td>1.000000</td>\n",
       "      <td>0.080825</td>\n",
       "      <td>0.053488</td>\n",
       "      <td>0.127779</td>\n",
       "      <td>-0.058794</td>\n",
       "    </tr>\n",
       "    <tr>\n",
       "      <th>Nt</th>\n",
       "      <td>0.080825</td>\n",
       "      <td>1.000000</td>\n",
       "      <td>0.003821</td>\n",
       "      <td>-0.003614</td>\n",
       "      <td>-0.980478</td>\n",
       "    </tr>\n",
       "    <tr>\n",
       "      <th>pH</th>\n",
       "      <td>0.053488</td>\n",
       "      <td>0.003821</td>\n",
       "      <td>1.000000</td>\n",
       "      <td>0.099505</td>\n",
       "      <td>0.007455</td>\n",
       "    </tr>\n",
       "    <tr>\n",
       "      <th>PetalCount</th>\n",
       "      <td>0.127779</td>\n",
       "      <td>-0.003614</td>\n",
       "      <td>0.099505</td>\n",
       "      <td>1.000000</td>\n",
       "      <td>0.053744</td>\n",
       "    </tr>\n",
       "    <tr>\n",
       "      <th>Age</th>\n",
       "      <td>-0.058794</td>\n",
       "      <td>-0.980478</td>\n",
       "      <td>0.007455</td>\n",
       "      <td>0.053744</td>\n",
       "      <td>1.000000</td>\n",
       "    </tr>\n",
       "  </tbody>\n",
       "</table>\n",
       "</div>"
      ],
      "text/plain": [
       "                  N0        Nt        pH  PetalCount       Age\n",
       "N0          1.000000  0.080825  0.053488    0.127779 -0.058794\n",
       "Nt          0.080825  1.000000  0.003821   -0.003614 -0.980478\n",
       "pH          0.053488  0.003821  1.000000    0.099505  0.007455\n",
       "PetalCount  0.127779 -0.003614  0.099505    1.000000  0.053744\n",
       "Age        -0.058794 -0.980478  0.007455    0.053744  1.000000"
      ]
     },
     "execution_count": 444,
     "metadata": {},
     "output_type": "execute_result"
    }
   ],
   "source": [
    "# Computing the correlation matrix\n",
    "Correlation_data = data_regression.corr()\n",
    "Correlation_data"
   ]
  },
  {
   "cell_type": "markdown",
   "metadata": {
    "deletable": true,
    "editable": true
   },
   "source": [
    "Figure 1.1: shows a table with all the feature's correlation against Age. N0, pH and PetalCount show very less contribution on Age. While Nt tends to have more contribution towards the Age response."
   ]
  },
  {
   "cell_type": "code",
   "execution_count": 445,
   "metadata": {
    "collapsed": false,
    "deletable": true,
    "editable": true,
    "scrolled": false
   },
   "outputs": [
    {
     "data": {
      "text/plain": [
       "<matplotlib.axes._subplots.AxesSubplot at 0x7f4d18a7acf8>"
      ]
     },
     "execution_count": 445,
     "metadata": {},
     "output_type": "execute_result"
    },
    {
     "data": {
      "image/png": "[encoded data removed]",
      "text/plain": [
       "<matplotlib.figure.Figure at 0x7f4d122f0198>"
      ]
     },
     "metadata": {},
     "output_type": "display_data"
    }
   ],
   "source": [
    "# Set up the matplotlib figure\n",
    "f, ax = plt.subplots(figsize = (10, 8))\n",
    "\n",
    "# Seaborn Heatmap\n",
    "sns.heatmap(Correlation_data, mask=np.zeros_like(Correlation_data, dtype=np.bool), cmap=sns.diverging_palette(220, 10, as_cmap=True), square=True, ax=ax)"
   ]
  },
  {
   "cell_type": "markdown",
   "metadata": {
    "deletable": true,
    "editable": true
   },
   "source": [
    "Fig 1.2: Figure shows a HeatMap plot with all the features against Age. N0 and pH are shown to have a negligible impact on our response. While Nt tends to be the most impactful. PetalCount also follows a hint of colour which can be taken into account."
   ]
  },
  {
   "cell_type": "markdown",
   "metadata": {
    "deletable": true,
    "editable": true
   },
   "source": [
    "## Linear Model Expression: \n",
    "\n",
    "#### y = B0 + B1x1 + B2x2 + B3x3 + B4x4\n",
    "\n",
    "Age(y) = B0 + B1NO + B2Nt +B3pH + B4PetalCount"
   ]
  },
  {
   "cell_type": "code",
   "execution_count": 446,
   "metadata": {
    "collapsed": true,
    "deletable": true,
    "editable": true
   },
   "outputs": [],
   "source": [
    "# init a Linear Regression Model\n",
    "Linear_Model = LinearRegression()"
   ]
  },
  {
   "cell_type": "markdown",
   "metadata": {
    "deletable": true,
    "editable": true
   },
   "source": [
    "## Cross Validation \n",
    "\n",
    "The one with least RMSE will be a better model as we need to decrease the RMSE"
   ]
  },
  {
   "cell_type": "markdown",
   "metadata": {
    "deletable": true,
    "editable": true
   },
   "source": [
    "###  1).  Selecting all the features\n"
   ]
  },
  {
   "cell_type": "markdown",
   "metadata": {
    "deletable": true,
    "editable": true
   },
   "source": [
    "###### Method 1 - Linear Regression Model"
   ]
  },
  {
   "cell_type": "code",
   "execution_count": 447,
   "metadata": {
    "collapsed": false,
    "deletable": true,
    "editable": true,
    "scrolled": true
   },
   "outputs": [
    {
     "name": "stdout",
     "output_type": "stream",
     "text": [
      "ALL FEATURES - \n",
      "\n",
      "RMSE Score Mean =  9.69687032571\n",
      "Intercept =  240.181478342\n",
      "Coefficeints =  [  9.23884541 -49.90688136   2.5332047    4.51793938]\n",
      "Accuracy =  0.967200061378\n"
     ]
    }
   ],
   "source": [
    "# X is 'Features' Table and Y is 'Response'\n",
    "X = data_regression.drop(['Age'], axis=1)\n",
    "Y = data_regression.Age\n",
    "\n",
    "# Splitting into Testing and Training units\n",
    "X_train, X_test, Y_train, Y_test = train_test_split(X, Y, random_state=4, train_size=.80, test_size=.20)\n",
    "\n",
    "# Computing RMSE Score :-\n",
    "Score = cross_val_score(Linear_Model, X,Y, cv=10, scoring=\"neg_mean_squared_error\")\n",
    "MSE_Score = -Score\n",
    "RMSE_Score = np.sqrt(MSE_Score)\n",
    "RMSE_Score.mean()\n",
    "print(\"ALL FEATURES - \\n\\nRMSE Score Mean = \", RMSE_Score.mean())\n",
    "\n",
    "# Training Data into Linear Regression Model\n",
    "Linear_Model.fit(X_train, Y_train)\n",
    "\n",
    "# Intercept\n",
    "print(\"Intercept = \", Linear_Model.intercept_)\n",
    "\n",
    "# Coeffecients Obtained\n",
    "print(\"Coefficeints = \", Linear_Model.coef_)\n",
    "\n",
    "# Accuracy\n",
    "Accuracy = Linear_Model.score(X_test, Y_test)\n",
    "print(\"Accuracy = \", Accuracy)"
   ]
  },
  {
   "cell_type": "markdown",
   "metadata": {
    "deletable": true,
    "editable": true
   },
   "source": [
    "##### Residuals"
   ]
  },
  {
   "cell_type": "code",
   "execution_count": 448,
   "metadata": {
    "collapsed": false,
    "deletable": true,
    "editable": true
   },
   "outputs": [
    {
     "data": {
      "image/png": "[encoded data removed]",
      "text/plain": [
       "<matplotlib.figure.Figure at 0x7f4d12266048>"
      ]
     },
     "metadata": {},
     "output_type": "display_data"
    }
   ],
   "source": [
    "Residuals_allFeatures = np.array(Linear_Model.predict(X_test) - Y_test)\n",
    "plt.boxplot(Residuals_allFeatures)\n",
    "plt.show()"
   ]
  },
  {
   "cell_type": "markdown",
   "metadata": {
    "deletable": true,
    "editable": true
   },
   "source": [
    "Fig 1.3: Figure shows a Box Plot with all the features of Residuals of all the features. It is slightly over predictive model."
   ]
  },
  {
   "cell_type": "markdown",
   "metadata": {
    "deletable": true,
    "editable": true
   },
   "source": [
    "#### Scatter Plot with Linear Regression Best Fit Lines"
   ]
  },
  {
   "cell_type": "code",
   "execution_count": 449,
   "metadata": {
    "collapsed": false,
    "deletable": true,
    "editable": true
   },
   "outputs": [
    {
     "data": {
      "text/plain": [
       "LinearRegression(copy_X=True, fit_intercept=True, n_jobs=1, normalize=False)"
      ]
     },
     "execution_count": 449,
     "metadata": {},
     "output_type": "execute_result"
    }
   ],
   "source": [
    "regr1 = Linear_Model\n",
    "regr1.fit(X_train, Y_train)"
   ]
  },
  {
   "cell_type": "code",
   "execution_count": 450,
   "metadata": {
    "collapsed": false,
    "deletable": true,
    "editable": true,
    "scrolled": false
   },
   "outputs": [
    {
     "data": {
      "image/png": "[encoded data removed]",
      "text/plain": [
       "<matplotlib.figure.Figure at 0x7f4d13b8e5f8>"
      ]
     },
     "metadata": {},
     "output_type": "display_data"
    }
   ],
   "source": [
    "plt.scatter(Linear_Model.predict(X_test),Y_test, color='r')\n",
    "plt.plot(Linear_Model.predict(X_test),Y_test, color='c',linewidth=0.4)\n",
    "plt.show()"
   ]
  },
  {
   "cell_type": "markdown",
   "metadata": {
    "deletable": true,
    "editable": true
   },
   "source": [
    "###### Method 2 - OLS Method"
   ]
  },
  {
   "cell_type": "code",
   "execution_count": 451,
   "metadata": {
    "collapsed": true,
    "deletable": true,
    "editable": true
   },
   "outputs": [],
   "source": [
    "#model_new = sm.OLS()"
   ]
  },
  {
   "cell_type": "code",
   "execution_count": 452,
   "metadata": {
    "collapsed": false,
    "deletable": true,
    "editable": true
   },
   "outputs": [
    {
     "data": {
      "text/html": [
       "<table class=\"simpletable\">\n",
       "<caption>OLS Regression Results</caption>\n",
       "<tr>\n",
       "  <th>Dep. Variable:</th>           <td>Age</td>       <th>  R-squared:         </th> <td>   0.963</td>\n",
       "</tr>\n",
       "<tr>\n",
       "  <th>Model:</th>                   <td>OLS</td>       <th>  Adj. R-squared:    </th> <td>   0.961</td>\n",
       "</tr>\n",
       "<tr>\n",
       "  <th>Method:</th>             <td>Least Squares</td>  <th>  F-statistic:       </th> <td>   486.2</td>\n",
       "</tr>\n",
       "<tr>\n",
       "  <th>Date:</th>             <td>Fri, 31 Mar 2017</td> <th>  Prob (F-statistic):</th> <td>8.60e-53</td>\n",
       "</tr>\n",
       "<tr>\n",
       "  <th>Time:</th>                 <td>18:11:59</td>     <th>  Log-Likelihood:    </th> <td> -295.87</td>\n",
       "</tr>\n",
       "<tr>\n",
       "  <th>No. Observations:</th>      <td>    80</td>      <th>  AIC:               </th> <td>   601.7</td>\n",
       "</tr>\n",
       "<tr>\n",
       "  <th>Df Residuals:</th>          <td>    75</td>      <th>  BIC:               </th> <td>   613.6</td>\n",
       "</tr>\n",
       "<tr>\n",
       "  <th>Df Model:</th>              <td>     4</td>      <th>                     </th>     <td> </td>   \n",
       "</tr>\n",
       "<tr>\n",
       "  <th>Covariance Type:</th>      <td>nonrobust</td>    <th>                     </th>     <td> </td>   \n",
       "</tr>\n",
       "</table>\n",
       "<table class=\"simpletable\">\n",
       "<tr>\n",
       "       <td></td>         <th>coef</th>     <th>std err</th>      <th>t</th>      <th>P>|t|</th>  <th>[0.025</th>    <th>0.975]</th>  \n",
       "</tr>\n",
       "<tr>\n",
       "  <th>Intercept</th>  <td>  355.1804</td> <td>  183.537</td> <td>    1.935</td> <td> 0.057</td> <td>  -10.444</td> <td>  720.805</td>\n",
       "</tr>\n",
       "<tr>\n",
       "  <th>N0</th>         <td>    3.5748</td> <td>   11.348</td> <td>    0.315</td> <td> 0.754</td> <td>  -19.031</td> <td>   26.180</td>\n",
       "</tr>\n",
       "<tr>\n",
       "  <th>Nt</th>         <td>  -49.4394</td> <td>    1.127</td> <td>  -43.874</td> <td> 0.000</td> <td>  -51.684</td> <td>  -47.195</td>\n",
       "</tr>\n",
       "<tr>\n",
       "  <th>pH</th>         <td>   -2.8994</td> <td>   11.157</td> <td>   -0.260</td> <td> 0.796</td> <td>  -25.125</td> <td>   19.326</td>\n",
       "</tr>\n",
       "<tr>\n",
       "  <th>PetalCount</th> <td>    5.0901</td> <td>    2.363</td> <td>    2.154</td> <td> 0.034</td> <td>    0.383</td> <td>    9.797</td>\n",
       "</tr>\n",
       "</table>\n",
       "<table class=\"simpletable\">\n",
       "<tr>\n",
       "  <th>Omnibus:</th>       <td>64.290</td> <th>  Durbin-Watson:     </th> <td>   1.794</td>\n",
       "</tr>\n",
       "<tr>\n",
       "  <th>Prob(Omnibus):</th> <td> 0.000</td> <th>  Jarque-Bera (JB):  </th> <td> 367.861</td>\n",
       "</tr>\n",
       "<tr>\n",
       "  <th>Skew:</th>          <td> 2.474</td> <th>  Prob(JB):          </th> <td>1.32e-80</td>\n",
       "</tr>\n",
       "<tr>\n",
       "  <th>Kurtosis:</th>      <td>12.267</td> <th>  Cond. No.          </th> <td>2.83e+03</td>\n",
       "</tr>\n",
       "</table>"
      ],
      "text/plain": [
       "<class 'statsmodels.iolib.summary.Summary'>\n",
       "\"\"\"\n",
       "                            OLS Regression Results                            \n",
       "==============================================================================\n",
       "Dep. Variable:                    Age   R-squared:                       0.963\n",
       "Model:                            OLS   Adj. R-squared:                  0.961\n",
       "Method:                 Least Squares   F-statistic:                     486.2\n",
       "Date:                Fri, 31 Mar 2017   Prob (F-statistic):           8.60e-53\n",
       "Time:                        18:11:59   Log-Likelihood:                -295.87\n",
       "No. Observations:                  80   AIC:                             601.7\n",
       "Df Residuals:                      75   BIC:                             613.6\n",
       "Df Model:                           4                                         \n",
       "Covariance Type:            nonrobust                                         \n",
       "==============================================================================\n",
       "                 coef    std err          t      P>|t|      [0.025      0.975]\n",
       "------------------------------------------------------------------------------\n",
       "Intercept    355.1804    183.537      1.935      0.057     -10.444     720.805\n",
       "N0             3.5748     11.348      0.315      0.754     -19.031      26.180\n",
       "Nt           -49.4394      1.127    -43.874      0.000     -51.684     -47.195\n",
       "pH            -2.8994     11.157     -0.260      0.796     -25.125      19.326\n",
       "PetalCount     5.0901      2.363      2.154      0.034       0.383       9.797\n",
       "==============================================================================\n",
       "Omnibus:                       64.290   Durbin-Watson:                   1.794\n",
       "Prob(Omnibus):                  0.000   Jarque-Bera (JB):              367.861\n",
       "Skew:                           2.474   Prob(JB):                     1.32e-80\n",
       "Kurtosis:                      12.267   Cond. No.                     2.83e+03\n",
       "==============================================================================\n",
       "\n",
       "Warnings:\n",
       "[1] Standard Errors assume that the covariance matrix of the errors is correctly specified.\n",
       "[2] The condition number is large, 2.83e+03. This might indicate that there are\n",
       "strong multicollinearity or other numerical problems.\n",
       "\"\"\""
      ]
     },
     "execution_count": 452,
     "metadata": {},
     "output_type": "execute_result"
    }
   ],
   "source": [
    "model_ALL = sm.ols(formula=\"Age ~ N0 + Nt + pH + PetalCount\", data = data_regression[:80]).fit()\n",
    "model_ALL.summary()"
   ]
  },
  {
   "cell_type": "code",
   "execution_count": 453,
   "metadata": {
    "collapsed": true,
    "deletable": true,
    "editable": true
   },
   "outputs": [],
   "source": [
    "#t value is close to 0 then it is insignificant...\n",
    "\n",
    "#if t is far, then there is a good chance it is significant"
   ]
  },
  {
   "cell_type": "code",
   "execution_count": 454,
   "metadata": {
    "collapsed": false,
    "deletable": true,
    "editable": true
   },
   "outputs": [],
   "source": [
    "#Null hypothesis - to be checked in COI [0.025 - 0.975] 95%, if the value includes 0, it is insignific, while Nt is quite far from 0, implies it is significant, AIC - model complexity, F is higher, next model to be taken into account,  "
   ]
  },
  {
   "cell_type": "markdown",
   "metadata": {
    "deletable": true,
    "editable": true
   },
   "source": [
    "### 2).  Selecting 'Nt' and 'PetalCount' features"
   ]
  },
  {
   "cell_type": "markdown",
   "metadata": {
    "deletable": true,
    "editable": true
   },
   "source": [
    "###### Method 1 - Linear Regression Model"
   ]
  },
  {
   "cell_type": "code",
   "execution_count": 455,
   "metadata": {
    "collapsed": false,
    "deletable": true,
    "editable": true
   },
   "outputs": [
    {
     "name": "stdout",
     "output_type": "stream",
     "text": [
      "SELECTED FEATURES (Nt and PC) - \n",
      "\n",
      "RMSE Score Mean =  9.50512568546\n",
      "Intercept =  393.465476353\n",
      "Coefficeints =  [-49.78026122   4.89246872]\n",
      "Accuracy =  0.967391846037\n"
     ]
    }
   ],
   "source": [
    "# X is 'Features' Table and Y is 'Response'x\n",
    "X_With_Nt_PC = data_regression.drop(['N0','pH','Age'], axis=1)\n",
    "\n",
    "# Splitting into Testing and Training units\n",
    "X_train, X_test, Y_train, Y_test = train_test_split(X_With_Nt_PC, Y, random_state=4, train_size=.80, test_size=.20)\n",
    "\n",
    "# Computing RMSE Score :-\n",
    "Score = cross_val_score(Linear_Model, X_With_Nt_PC, Y, cv=10, scoring=\"neg_mean_squared_error\")\n",
    "MSE_Score = -Score\n",
    "RMSE_Score = np.sqrt(MSE_Score)\n",
    "print(\"SELECTED FEATURES (Nt and PC) - \\n\\nRMSE Score Mean = \", RMSE_Score.mean())\n",
    "\n",
    "# Training Data into the model\n",
    "Linear_Model.fit(X_train, Y_train)\n",
    "\n",
    "# Intercept\n",
    "print(\"Intercept = \", Linear_Model.intercept_)\n",
    "\n",
    "# Coeffecients Obtained\n",
    "print(\"Coefficeints = \", Linear_Model.coef_)\n",
    "\n",
    "# Accuracy\n",
    "Accuracy = Linear_Model.score(X_test, Y_test)\n",
    "print(\"Accuracy = \", Accuracy)"
   ]
  },
  {
   "cell_type": "markdown",
   "metadata": {
    "deletable": true,
    "editable": true
   },
   "source": [
    "##### Residuals"
   ]
  },
  {
   "cell_type": "code",
   "execution_count": 456,
   "metadata": {
    "collapsed": false,
    "deletable": true,
    "editable": true
   },
   "outputs": [
    {
     "data": {
      "image/png": "[encoded data removed]",
      "text/plain": [
       "<matplotlib.figure.Figure at 0x7f4d1209aa90>"
      ]
     },
     "metadata": {},
     "output_type": "display_data"
    }
   ],
   "source": [
    "Residuals_NTandPC = np.array(Linear_Model.predict(X_test) - Y_test)\n",
    "plt.boxplot(Residuals_NTandPC)\n",
    "plt.show()"
   ]
  },
  {
   "cell_type": "markdown",
   "metadata": {
    "deletable": true,
    "editable": true
   },
   "source": [
    "Fig 1.4: Figure shows a Box Plot with features of Residuals of Nt and PetalCount. It is slightly over predictive model."
   ]
  },
  {
   "cell_type": "markdown",
   "metadata": {
    "deletable": true,
    "editable": true
   },
   "source": [
    "#### Scatter Plot with Linear Regression Best Fit Lines"
   ]
  },
  {
   "cell_type": "code",
   "execution_count": 457,
   "metadata": {
    "collapsed": false,
    "deletable": true,
    "editable": true
   },
   "outputs": [
    {
     "data": {
      "text/plain": [
       "LinearRegression(copy_X=True, fit_intercept=True, n_jobs=1, normalize=False)"
      ]
     },
     "execution_count": 457,
     "metadata": {},
     "output_type": "execute_result"
    }
   ],
   "source": [
    "regr2 = Linear_Model\n",
    "regr2.fit(X_train, Y_train)"
   ]
  },
  {
   "cell_type": "code",
   "execution_count": 458,
   "metadata": {
    "collapsed": false,
    "deletable": true,
    "editable": true
   },
   "outputs": [
    {
     "data": {
      "image/png": "[encoded data removed]",
      "text/plain": [
       "<matplotlib.figure.Figure at 0x7f4d11f63048>"
      ]
     },
     "metadata": {},
     "output_type": "display_data"
    }
   ],
   "source": [
    "plt.scatter(Linear_Model.predict(X_test),Y_test, color='r')\n",
    "plt.plot(Linear_Model.predict(X_test),Y_test, color='c',linewidth=0.4)\n",
    "plt.show()"
   ]
  },
  {
   "cell_type": "markdown",
   "metadata": {
    "deletable": true,
    "editable": true
   },
   "source": [
    "###### Method 2 - OLS Method"
   ]
  },
  {
   "cell_type": "code",
   "execution_count": 459,
   "metadata": {
    "collapsed": false,
    "deletable": true,
    "editable": true
   },
   "outputs": [
    {
     "data": {
      "text/html": [
       "<table class=\"simpletable\">\n",
       "<caption>OLS Regression Results</caption>\n",
       "<tr>\n",
       "  <th>Dep. Variable:</th>           <td>Age</td>       <th>  R-squared:         </th> <td>   0.963</td>\n",
       "</tr>\n",
       "<tr>\n",
       "  <th>Model:</th>                   <td>OLS</td>       <th>  Adj. R-squared:    </th> <td>   0.962</td>\n",
       "</tr>\n",
       "<tr>\n",
       "  <th>Method:</th>             <td>Least Squares</td>  <th>  F-statistic:       </th> <td>   996.0</td>\n",
       "</tr>\n",
       "<tr>\n",
       "  <th>Date:</th>             <td>Fri, 31 Mar 2017</td> <th>  Prob (F-statistic):</th> <td>9.38e-56</td>\n",
       "</tr>\n",
       "<tr>\n",
       "  <th>Time:</th>                 <td>18:12:00</td>     <th>  Log-Likelihood:    </th> <td> -295.96</td>\n",
       "</tr>\n",
       "<tr>\n",
       "  <th>No. Observations:</th>      <td>    80</td>      <th>  AIC:               </th> <td>   597.9</td>\n",
       "</tr>\n",
       "<tr>\n",
       "  <th>Df Residuals:</th>          <td>    77</td>      <th>  BIC:               </th> <td>   605.1</td>\n",
       "</tr>\n",
       "<tr>\n",
       "  <th>Df Model:</th>              <td>     2</td>      <th>                     </th>     <td> </td>   \n",
       "</tr>\n",
       "<tr>\n",
       "  <th>Covariance Type:</th>      <td>nonrobust</td>    <th>                     </th>     <td> </td>   \n",
       "</tr>\n",
       "</table>\n",
       "<table class=\"simpletable\">\n",
       "<tr>\n",
       "       <td></td>         <th>coef</th>     <th>std err</th>      <th>t</th>      <th>P>|t|</th>  <th>[0.025</th>    <th>0.975]</th>  \n",
       "</tr>\n",
       "<tr>\n",
       "  <th>Intercept</th>  <td>  391.8189</td> <td>   11.118</td> <td>   35.242</td> <td> 0.000</td> <td>  369.680</td> <td>  413.957</td>\n",
       "</tr>\n",
       "<tr>\n",
       "  <th>Nt</th>         <td>  -49.4160</td> <td>    1.107</td> <td>  -44.628</td> <td> 0.000</td> <td>  -51.621</td> <td>  -47.211</td>\n",
       "</tr>\n",
       "<tr>\n",
       "  <th>PetalCount</th> <td>    5.1336</td> <td>    2.277</td> <td>    2.255</td> <td> 0.027</td> <td>    0.600</td> <td>    9.668</td>\n",
       "</tr>\n",
       "</table>\n",
       "<table class=\"simpletable\">\n",
       "<tr>\n",
       "  <th>Omnibus:</th>       <td>63.309</td> <th>  Durbin-Watson:     </th> <td>   1.788</td>\n",
       "</tr>\n",
       "<tr>\n",
       "  <th>Prob(Omnibus):</th> <td> 0.000</td> <th>  Jarque-Bera (JB):  </th> <td> 349.926</td>\n",
       "</tr>\n",
       "<tr>\n",
       "  <th>Skew:</th>          <td> 2.443</td> <th>  Prob(JB):          </th> <td>1.03e-76</td>\n",
       "</tr>\n",
       "<tr>\n",
       "  <th>Kurtosis:</th>      <td>12.006</td> <th>  Cond. No.          </th> <td>    60.5</td>\n",
       "</tr>\n",
       "</table>"
      ],
      "text/plain": [
       "<class 'statsmodels.iolib.summary.Summary'>\n",
       "\"\"\"\n",
       "                            OLS Regression Results                            \n",
       "==============================================================================\n",
       "Dep. Variable:                    Age   R-squared:                       0.963\n",
       "Model:                            OLS   Adj. R-squared:                  0.962\n",
       "Method:                 Least Squares   F-statistic:                     996.0\n",
       "Date:                Fri, 31 Mar 2017   Prob (F-statistic):           9.38e-56\n",
       "Time:                        18:12:00   Log-Likelihood:                -295.96\n",
       "No. Observations:                  80   AIC:                             597.9\n",
       "Df Residuals:                      77   BIC:                             605.1\n",
       "Df Model:                           2                                         \n",
       "Covariance Type:            nonrobust                                         \n",
       "==============================================================================\n",
       "                 coef    std err          t      P>|t|      [0.025      0.975]\n",
       "------------------------------------------------------------------------------\n",
       "Intercept    391.8189     11.118     35.242      0.000     369.680     413.957\n",
       "Nt           -49.4160      1.107    -44.628      0.000     -51.621     -47.211\n",
       "PetalCount     5.1336      2.277      2.255      0.027       0.600       9.668\n",
       "==============================================================================\n",
       "Omnibus:                       63.309   Durbin-Watson:                   1.788\n",
       "Prob(Omnibus):                  0.000   Jarque-Bera (JB):              349.926\n",
       "Skew:                           2.443   Prob(JB):                     1.03e-76\n",
       "Kurtosis:                      12.006   Cond. No.                         60.5\n",
       "==============================================================================\n",
       "\n",
       "Warnings:\n",
       "[1] Standard Errors assume that the covariance matrix of the errors is correctly specified.\n",
       "\"\"\""
      ]
     },
     "execution_count": 459,
     "metadata": {},
     "output_type": "execute_result"
    }
   ],
   "source": [
    "model_NTandPC = sm.ols(formula=\"Age ~ Nt + PetalCount\", data = data_regression[:80]).fit()\n",
    "model_NTandPC.summary()"
   ]
  },
  {
   "cell_type": "markdown",
   "metadata": {
    "deletable": true,
    "editable": true
   },
   "source": [
    "### 3).  Selecting only 'Nt' Feature"
   ]
  },
  {
   "cell_type": "markdown",
   "metadata": {
    "deletable": true,
    "editable": true
   },
   "source": [
    "###### Method 1 - Linear Regression Model"
   ]
  },
  {
   "cell_type": "code",
   "execution_count": 460,
   "metadata": {
    "collapsed": false,
    "deletable": true,
    "editable": true,
    "scrolled": true
   },
   "outputs": [
    {
     "name": "stdout",
     "output_type": "stream",
     "text": [
      "SELECTED FEATURES (Nt Only) - \n",
      "\n",
      "RMSE Score Mean =  9.61600017706\n",
      "Intercept =  416.095208129\n",
      "Coefficeints =  [-49.83337922]\n",
      "Accuracy =  0.964480217103\n"
     ]
    }
   ],
   "source": [
    "# X is 'Features' Table and Y is 'Response'\n",
    "X_With_Nt_Only = data_regression.drop(['N0','pH','PetalCount','Age'], axis=1)\n",
    "\n",
    "# Splitting into Testing and Training units\n",
    "X_train, X_test, Y_train, Y_test = train_test_split(X_With_Nt_Only, Y, random_state=4, train_size=.80, test_size=.20)\n",
    "\n",
    "# Computing RMSE Score :-\n",
    "Score = cross_val_score(Linear_Model, X_With_Nt_Only, Y, cv=10, scoring=\"neg_mean_squared_error\")\n",
    "MSE_Score = -Score\n",
    "RMSE_Score = np.sqrt(MSE_Score)\n",
    "print(\"SELECTED FEATURES (Nt Only) - \\n\\nRMSE Score Mean = \", RMSE_Score.mean())\n",
    "\n",
    "# Training Data into the model\n",
    "Linear_Model.fit(X_train, Y_train)\n",
    "\n",
    "# Intercept\n",
    "print(\"Intercept = \", Linear_Model.intercept_)\n",
    "\n",
    "# Coeffecients Obtained\n",
    "print(\"Coefficeints = \", Linear_Model.coef_)\n",
    "\n",
    "# Accuracy\n",
    "Accuracy = Linear_Model.score(X_test, Y_test)\n",
    "print(\"Accuracy = \", Accuracy)"
   ]
  },
  {
   "cell_type": "markdown",
   "metadata": {
    "deletable": true,
    "editable": true
   },
   "source": [
    "##### Residuals"
   ]
  },
  {
   "cell_type": "code",
   "execution_count": 461,
   "metadata": {
    "collapsed": true,
    "deletable": true,
    "editable": true
   },
   "outputs": [],
   "source": [
    "# Residuals vs y, yhat, in table form"
   ]
  },
  {
   "cell_type": "code",
   "execution_count": 462,
   "metadata": {
    "collapsed": true,
    "deletable": true,
    "editable": true
   },
   "outputs": [],
   "source": [
    "#Scatter plot along with regression best fit line, to check if we are moving in the right dir"
   ]
  },
  {
   "cell_type": "code",
   "execution_count": 463,
   "metadata": {
    "collapsed": false,
    "deletable": true,
    "editable": true
   },
   "outputs": [
    {
     "data": {
      "image/png": "[encoded data removed]",
      "text/plain": [
       "<matplotlib.figure.Figure at 0x7f4d11f63748>"
      ]
     },
     "metadata": {},
     "output_type": "display_data"
    }
   ],
   "source": [
    "Residuals_NTOnly = np.array(Linear_Model.predict(X_test) - Y_test)\n",
    "plt.boxplot(Residuals_NTandPC)\n",
    "plt.show()"
   ]
  },
  {
   "cell_type": "markdown",
   "metadata": {
    "deletable": true,
    "editable": true
   },
   "source": [
    "Fig 1.5: Figure shows a Box Plot with features of Residuals of only Nt. It is comparitively a under predictive model"
   ]
  },
  {
   "cell_type": "code",
   "execution_count": 464,
   "metadata": {
    "collapsed": false,
    "deletable": true,
    "editable": true
   },
   "outputs": [
    {
     "data": {
      "image/png": "[encoded data removed]",
      "text/plain": [
       "<matplotlib.figure.Figure at 0x7f4d11e5fda0>"
      ]
     },
     "metadata": {},
     "output_type": "display_data"
    }
   ],
   "source": [
    "regr3 = Linear_Model\n",
    "regr3.fit(X_train, Y_train)\n",
    "\n",
    "plt.scatter(Linear_Model.predict(X_test),Y_test, color='r')\n",
    "plt.plot(Linear_Model.predict(X_test),Y_test, color='c',linewidth=0.4)\n",
    "plt.show()"
   ]
  },
  {
   "cell_type": "markdown",
   "metadata": {
    "deletable": true,
    "editable": true
   },
   "source": [
    "###### Method 2 - OLS Method"
   ]
  },
  {
   "cell_type": "code",
   "execution_count": 465,
   "metadata": {
    "collapsed": false,
    "deletable": true,
    "editable": true
   },
   "outputs": [
    {
     "data": {
      "text/html": [
       "<table class=\"simpletable\">\n",
       "<caption>OLS Regression Results</caption>\n",
       "<tr>\n",
       "  <th>Dep. Variable:</th>           <td>Age</td>       <th>  R-squared:         </th> <td>   0.960</td>\n",
       "</tr>\n",
       "<tr>\n",
       "  <th>Model:</th>                   <td>OLS</td>       <th>  Adj. R-squared:    </th> <td>   0.960</td>\n",
       "</tr>\n",
       "<tr>\n",
       "  <th>Method:</th>             <td>Least Squares</td>  <th>  F-statistic:       </th> <td>   1888.</td>\n",
       "</tr>\n",
       "<tr>\n",
       "  <th>Date:</th>             <td>Fri, 31 Mar 2017</td> <th>  Prob (F-statistic):</th> <td>2.01e-56</td>\n",
       "</tr>\n",
       "<tr>\n",
       "  <th>Time:</th>                 <td>18:12:01</td>     <th>  Log-Likelihood:    </th> <td> -298.52</td>\n",
       "</tr>\n",
       "<tr>\n",
       "  <th>No. Observations:</th>      <td>    80</td>      <th>  AIC:               </th> <td>   601.0</td>\n",
       "</tr>\n",
       "<tr>\n",
       "  <th>Df Residuals:</th>          <td>    78</td>      <th>  BIC:               </th> <td>   605.8</td>\n",
       "</tr>\n",
       "<tr>\n",
       "  <th>Df Model:</th>              <td>     1</td>      <th>                     </th>     <td> </td>   \n",
       "</tr>\n",
       "<tr>\n",
       "  <th>Covariance Type:</th>      <td>nonrobust</td>    <th>                     </th>     <td> </td>   \n",
       "</tr>\n",
       "</table>\n",
       "<table class=\"simpletable\">\n",
       "<tr>\n",
       "      <td></td>         <th>coef</th>     <th>std err</th>      <th>t</th>      <th>P>|t|</th>  <th>[0.025</th>    <th>0.975]</th>  \n",
       "</tr>\n",
       "<tr>\n",
       "  <th>Intercept</th> <td>  415.1164</td> <td>    4.209</td> <td>   98.637</td> <td> 0.000</td> <td>  406.738</td> <td>  423.495</td>\n",
       "</tr>\n",
       "<tr>\n",
       "  <th>Nt</th>        <td>  -49.3272</td> <td>    1.135</td> <td>  -43.453</td> <td> 0.000</td> <td>  -51.587</td> <td>  -47.067</td>\n",
       "</tr>\n",
       "</table>\n",
       "<table class=\"simpletable\">\n",
       "<tr>\n",
       "  <th>Omnibus:</th>       <td>65.648</td> <th>  Durbin-Watson:     </th> <td>   1.974</td>\n",
       "</tr>\n",
       "<tr>\n",
       "  <th>Prob(Omnibus):</th> <td> 0.000</td> <th>  Jarque-Bera (JB):  </th> <td> 384.740</td>\n",
       "</tr>\n",
       "<tr>\n",
       "  <th>Skew:</th>          <td> 2.533</td> <th>  Prob(JB):          </th> <td>2.85e-84</td>\n",
       "</tr>\n",
       "<tr>\n",
       "  <th>Kurtosis:</th>      <td>12.474</td> <th>  Cond. No.          </th> <td>    14.6</td>\n",
       "</tr>\n",
       "</table>"
      ],
      "text/plain": [
       "<class 'statsmodels.iolib.summary.Summary'>\n",
       "\"\"\"\n",
       "                            OLS Regression Results                            \n",
       "==============================================================================\n",
       "Dep. Variable:                    Age   R-squared:                       0.960\n",
       "Model:                            OLS   Adj. R-squared:                  0.960\n",
       "Method:                 Least Squares   F-statistic:                     1888.\n",
       "Date:                Fri, 31 Mar 2017   Prob (F-statistic):           2.01e-56\n",
       "Time:                        18:12:01   Log-Likelihood:                -298.52\n",
       "No. Observations:                  80   AIC:                             601.0\n",
       "Df Residuals:                      78   BIC:                             605.8\n",
       "Df Model:                           1                                         \n",
       "Covariance Type:            nonrobust                                         \n",
       "==============================================================================\n",
       "                 coef    std err          t      P>|t|      [0.025      0.975]\n",
       "------------------------------------------------------------------------------\n",
       "Intercept    415.1164      4.209     98.637      0.000     406.738     423.495\n",
       "Nt           -49.3272      1.135    -43.453      0.000     -51.587     -47.067\n",
       "==============================================================================\n",
       "Omnibus:                       65.648   Durbin-Watson:                   1.974\n",
       "Prob(Omnibus):                  0.000   Jarque-Bera (JB):              384.740\n",
       "Skew:                           2.533   Prob(JB):                     2.85e-84\n",
       "Kurtosis:                      12.474   Cond. No.                         14.6\n",
       "==============================================================================\n",
       "\n",
       "Warnings:\n",
       "[1] Standard Errors assume that the covariance matrix of the errors is correctly specified.\n",
       "\"\"\""
      ]
     },
     "execution_count": 465,
     "metadata": {},
     "output_type": "execute_result"
    }
   ],
   "source": [
    "model_NT = sm.ols(formula=\"Age ~ Nt\", data = data_regression[:80]).fit()\n",
    "model_NT.summary()"
   ]
  },
  {
   "cell_type": "markdown",
   "metadata": {
    "deletable": true,
    "editable": true
   },
   "source": [
    "Since this data shows the least error so we can move forward with this data and take the log of Nt and find the OLS Summary again of this method. \n",
    "\n",
    "Following Steps will be performed ahead:\n",
    "\n",
    "- Taking the log of Nt\n",
    "\n",
    "- Determining OLS Summary again\n",
    "\n",
    "- Calculating Residuals and plot a Box plot"
   ]
  },
  {
   "cell_type": "markdown",
   "metadata": {
    "deletable": true,
    "editable": true
   },
   "source": [
    "##### Step 2:  Taking the log of 'Nt' Feature"
   ]
  },
  {
   "cell_type": "code",
   "execution_count": 466,
   "metadata": {
    "collapsed": false,
    "deletable": true,
    "editable": true
   },
   "outputs": [
    {
     "data": {
      "text/html": [
       "<table class=\"simpletable\">\n",
       "<caption>OLS Regression Results</caption>\n",
       "<tr>\n",
       "  <th>Dep. Variable:</th>           <td>Age</td>       <th>  R-squared:         </th> <td>   1.000</td> \n",
       "</tr>\n",
       "<tr>\n",
       "  <th>Model:</th>                   <td>OLS</td>       <th>  Adj. R-squared:    </th> <td>   1.000</td> \n",
       "</tr>\n",
       "<tr>\n",
       "  <th>Method:</th>             <td>Least Squares</td>  <th>  F-statistic:       </th> <td>1.732e+05</td>\n",
       "</tr>\n",
       "<tr>\n",
       "  <th>Date:</th>             <td>Fri, 31 Mar 2017</td> <th>  Prob (F-statistic):</th> <td>2.70e-132</td>\n",
       "</tr>\n",
       "<tr>\n",
       "  <th>Time:</th>                 <td>18:12:01</td>     <th>  Log-Likelihood:    </th> <td> -119.35</td> \n",
       "</tr>\n",
       "<tr>\n",
       "  <th>No. Observations:</th>      <td>    80</td>      <th>  AIC:               </th> <td>   242.7</td> \n",
       "</tr>\n",
       "<tr>\n",
       "  <th>Df Residuals:</th>          <td>    78</td>      <th>  BIC:               </th> <td>   247.5</td> \n",
       "</tr>\n",
       "<tr>\n",
       "  <th>Df Model:</th>              <td>     1</td>      <th>                     </th>     <td> </td>    \n",
       "</tr>\n",
       "<tr>\n",
       "  <th>Covariance Type:</th>      <td>nonrobust</td>    <th>                     </th>     <td> </td>    \n",
       "</tr>\n",
       "</table>\n",
       "<table class=\"simpletable\">\n",
       "<tr>\n",
       "       <td></td>         <th>coef</th>     <th>std err</th>      <th>t</th>      <th>P>|t|</th>  <th>[0.025</th>    <th>0.975]</th>  \n",
       "</tr>\n",
       "<tr>\n",
       "  <th>Intercept</th>  <td>  434.7923</td> <td>    0.486</td> <td>  895.331</td> <td> 0.000</td> <td>  433.825</td> <td>  435.759</td>\n",
       "</tr>\n",
       "<tr>\n",
       "  <th>np.log(Nt)</th> <td> -159.6054</td> <td>    0.383</td> <td> -416.227</td> <td> 0.000</td> <td> -160.369</td> <td> -158.842</td>\n",
       "</tr>\n",
       "</table>\n",
       "<table class=\"simpletable\">\n",
       "<tr>\n",
       "  <th>Omnibus:</th>       <td> 1.331</td> <th>  Durbin-Watson:     </th> <td>   2.223</td>\n",
       "</tr>\n",
       "<tr>\n",
       "  <th>Prob(Omnibus):</th> <td> 0.514</td> <th>  Jarque-Bera (JB):  </th> <td>   1.124</td>\n",
       "</tr>\n",
       "<tr>\n",
       "  <th>Skew:</th>          <td>-0.290</td> <th>  Prob(JB):          </th> <td>   0.570</td>\n",
       "</tr>\n",
       "<tr>\n",
       "  <th>Kurtosis:</th>      <td> 2.959</td> <th>  Cond. No.          </th> <td>    8.07</td>\n",
       "</tr>\n",
       "</table>"
      ],
      "text/plain": [
       "<class 'statsmodels.iolib.summary.Summary'>\n",
       "\"\"\"\n",
       "                            OLS Regression Results                            \n",
       "==============================================================================\n",
       "Dep. Variable:                    Age   R-squared:                       1.000\n",
       "Model:                            OLS   Adj. R-squared:                  1.000\n",
       "Method:                 Least Squares   F-statistic:                 1.732e+05\n",
       "Date:                Fri, 31 Mar 2017   Prob (F-statistic):          2.70e-132\n",
       "Time:                        18:12:01   Log-Likelihood:                -119.35\n",
       "No. Observations:                  80   AIC:                             242.7\n",
       "Df Residuals:                      78   BIC:                             247.5\n",
       "Df Model:                           1                                         \n",
       "Covariance Type:            nonrobust                                         \n",
       "==============================================================================\n",
       "                 coef    std err          t      P>|t|      [0.025      0.975]\n",
       "------------------------------------------------------------------------------\n",
       "Intercept    434.7923      0.486    895.331      0.000     433.825     435.759\n",
       "np.log(Nt)  -159.6054      0.383   -416.227      0.000    -160.369    -158.842\n",
       "==============================================================================\n",
       "Omnibus:                        1.331   Durbin-Watson:                   2.223\n",
       "Prob(Omnibus):                  0.514   Jarque-Bera (JB):                1.124\n",
       "Skew:                          -0.290   Prob(JB):                        0.570\n",
       "Kurtosis:                       2.959   Cond. No.                         8.07\n",
       "==============================================================================\n",
       "\n",
       "Warnings:\n",
       "[1] Standard Errors assume that the covariance matrix of the errors is correctly specified.\n",
       "\"\"\""
      ]
     },
     "execution_count": 466,
     "metadata": {},
     "output_type": "execute_result"
    }
   ],
   "source": [
    "model_logNT = sm.ols(formula= \"Age ~ np.log(Nt)\", data = data_regression[:80]).fit()\n",
    "model_logNT.summary()"
   ]
  },
  {
   "cell_type": "markdown",
   "metadata": {
    "deletable": true,
    "editable": true
   },
   "source": [
    "##### Step 3:  Predicting the model using test data"
   ]
  },
  {
   "cell_type": "code",
   "execution_count": 467,
   "metadata": {
    "collapsed": false,
    "deletable": true,
    "editable": true
   },
   "outputs": [],
   "source": [
    "Predict_logNT = model_logNT.predict(X_test)"
   ]
  },
  {
   "cell_type": "markdown",
   "metadata": {
    "deletable": true,
    "editable": true
   },
   "source": [
    "##### Step 4:  Plotting  Actual Age vs Predicted Age. Ideal case would be a straight line having y = x equation"
   ]
  },
  {
   "cell_type": "code",
   "execution_count": 468,
   "metadata": {
    "collapsed": false,
    "deletable": true,
    "editable": true,
    "scrolled": true
   },
   "outputs": [
    {
     "data": {
      "image/png": "[encoded data removed]",
      "text/plain": [
       "<matplotlib.figure.Figure at 0x7f4d11d72a20>"
      ]
     },
     "metadata": {},
     "output_type": "display_data"
    }
   ],
   "source": [
    "plt.plot(Predict_logNT, Y_test)\n",
    "plt.xlabel(\"Predicted Age\")\n",
    "plt.ylabel(\"Actual Age\")\n",
    "plt.show()"
   ]
  },
  {
   "cell_type": "markdown",
   "metadata": {
    "deletable": true,
    "editable": true
   },
   "source": [
    "Fig 1.6: Figure shows a line graph with only Nt features selected only. This graph shows a linear relationship of a line having an equation of y = x, which is a balanced model."
   ]
  },
  {
   "cell_type": "markdown",
   "metadata": {
    "deletable": true,
    "editable": true
   },
   "source": [
    "##### Step 5: Residuals - Box plot"
   ]
  },
  {
   "cell_type": "code",
   "execution_count": 469,
   "metadata": {
    "collapsed": false,
    "deletable": true,
    "editable": true,
    "scrolled": true
   },
   "outputs": [
    {
     "data": {
      "image/png": "[encoded data removed]",
      "text/plain": [
       "<matplotlib.figure.Figure at 0x7f4d11e34cf8>"
      ]
     },
     "metadata": {},
     "output_type": "display_data"
    }
   ],
   "source": [
    "Residuals_NTOnly = np.array(Predict_logNT - Y_test)\n",
    "plt.boxplot(Residuals_NTOnly)\n",
    "plt.show()"
   ]
  },
  {
   "cell_type": "markdown",
   "metadata": {
    "deletable": true,
    "editable": true
   },
   "source": [
    "Fig 1.7: Figure shows a Box Plot with features of Residuals of only Nt. It is a balanced model"
   ]
  },
  {
   "cell_type": "markdown",
   "metadata": {
    "deletable": true,
    "editable": true
   },
   "source": [
    "##### Step 6: Residuals - Histogram"
   ]
  },
  {
   "cell_type": "code",
   "execution_count": 470,
   "metadata": {
    "collapsed": false,
    "deletable": true,
    "editable": true,
    "scrolled": true
   },
   "outputs": [
    {
     "data": {
      "image/png": "[encoded data removed]",
      "text/plain": [
       "<matplotlib.figure.Figure at 0x7f4d11f51b38>"
      ]
     },
     "metadata": {},
     "output_type": "display_data"
    }
   ],
   "source": [
    "plt.hist(Residuals_NTOnly, bins=10)\n",
    "plt.show()"
   ]
  },
  {
   "cell_type": "markdown",
   "metadata": {
    "deletable": true,
    "editable": true
   },
   "source": [
    "### T - stats and P-Value"
   ]
  },
  {
   "cell_type": "code",
   "execution_count": 471,
   "metadata": {
    "collapsed": false,
    "deletable": true,
    "editable": true
   },
   "outputs": [
    {
     "data": {
      "text/plain": [
       "[('F statistics', 0.9504296386248865), ('p_value', 0.56185231186142848)]"
      ]
     },
     "execution_count": 471,
     "metadata": {},
     "output_type": "execute_result"
    }
   ],
   "source": [
    "name = ['F statistics', 'p_value']\n",
    "test = sms.het_goldfeldquandt(model_logNT.resid, model_logNT.model.exog)\n",
    "list(zip(name,test))"
   ]
  },
  {
   "cell_type": "markdown",
   "metadata": {
    "deletable": true,
    "editable": true
   },
   "source": [
    ".\n",
    "\n",
    "\n",
    "\n",
    "## Ridge Regression "
   ]
  },
  {
   "cell_type": "markdown",
   "metadata": {
    "deletable": true,
    "editable": true
   },
   "source": [
    "Residual Sum of Squares(RSS) = Sum(y - y(hat))^2  => What % of variation in x is not described \n",
    "\n",
    "Objective = RSS + a(Sum(B^2))"
   ]
  },
  {
   "cell_type": "markdown",
   "metadata": {
    "deletable": true,
    "editable": true
   },
   "source": [
    "##### Generating Random alpha Values"
   ]
  },
  {
   "cell_type": "code",
   "execution_count": 472,
   "metadata": {
    "collapsed": false,
    "deletable": true,
    "editable": true
   },
   "outputs": [],
   "source": [
    "# Alpha Values \n",
    "alphas = 10**np.linspace(10,-2,100)*0.5"
   ]
  },
  {
   "cell_type": "markdown",
   "metadata": {
    "deletable": true,
    "editable": true
   },
   "source": [
    "##### X and Y"
   ]
  },
  {
   "cell_type": "code",
   "execution_count": 473,
   "metadata": {
    "collapsed": false,
    "deletable": true,
    "editable": true
   },
   "outputs": [],
   "source": [
    "# X contains all features"
   ]
  },
  {
   "cell_type": "code",
   "execution_count": 474,
   "metadata": {
    "collapsed": false,
    "deletable": true,
    "editable": true
   },
   "outputs": [],
   "source": [
    "# Y contains Target"
   ]
  },
  {
   "cell_type": "markdown",
   "metadata": {
    "deletable": true,
    "editable": true
   },
   "source": [
    "###  Ridge Regression 1 - "
   ]
  },
  {
   "cell_type": "markdown",
   "metadata": {
    "deletable": true,
    "editable": true
   },
   "source": [
    "##### --- Using Random alpha Values"
   ]
  },
  {
   "cell_type": "code",
   "execution_count": 475,
   "metadata": {
    "collapsed": true,
    "deletable": true,
    "editable": true
   },
   "outputs": [],
   "source": [
    "# Applying Ridge Model Fit with no specific value of alpha\n",
    "ridge = Ridge(normalize=True)\n",
    "\n",
    "coefs = [] \n",
    "\n",
    "# Fitting X and Y for each value of alpha using a loop statment\n",
    "for a in alphas:\n",
    "    ridge.set_params(alpha = a)\n",
    "    ridge.fit(X, Y)\n",
    "    coefs.append(ridge.coef_)"
   ]
  },
  {
   "cell_type": "markdown",
   "metadata": {
    "deletable": true,
    "editable": true
   },
   "source": [
    "##### Forming a DataFrame"
   ]
  },
  {
   "cell_type": "code",
   "execution_count": 476,
   "metadata": {
    "collapsed": false,
    "deletable": true,
    "editable": true
   },
   "outputs": [
    {
     "data": {
      "text/html": [
       "<div>\n",
       "<table border=\"1\" class=\"dataframe\">\n",
       "  <thead>\n",
       "    <tr style=\"text-align: right;\">\n",
       "      <th></th>\n",
       "      <th>N0</th>\n",
       "      <th>Nt</th>\n",
       "      <th>pH</th>\n",
       "      <th>PetalCount</th>\n",
       "      <th>Alpha</th>\n",
       "    </tr>\n",
       "  </thead>\n",
       "  <tbody>\n",
       "    <tr>\n",
       "      <th>0</th>\n",
       "      <td>-6.022439e-09</td>\n",
       "      <td>-1.000878e-08</td>\n",
       "      <td>7.931866e-10</td>\n",
       "      <td>1.108602e-09</td>\n",
       "      <td>5.000000e+09</td>\n",
       "    </tr>\n",
       "    <tr>\n",
       "      <th>1</th>\n",
       "      <td>-7.961310e-09</td>\n",
       "      <td>-1.323101e-08</td>\n",
       "      <td>1.048546e-09</td>\n",
       "      <td>1.465506e-09</td>\n",
       "      <td>3.782317e+09</td>\n",
       "    </tr>\n",
       "    <tr>\n",
       "      <th>2</th>\n",
       "      <td>-1.052438e-08</td>\n",
       "      <td>-1.749062e-08</td>\n",
       "      <td>1.386116e-09</td>\n",
       "      <td>1.937313e-09</td>\n",
       "      <td>2.861184e+09</td>\n",
       "    </tr>\n",
       "    <tr>\n",
       "      <th>3</th>\n",
       "      <td>-1.391262e-08</td>\n",
       "      <td>-2.312157e-08</td>\n",
       "      <td>1.832364e-09</td>\n",
       "      <td>2.561014e-09</td>\n",
       "      <td>2.164381e+09</td>\n",
       "    </tr>\n",
       "    <tr>\n",
       "      <th>4</th>\n",
       "      <td>-1.839166e-08</td>\n",
       "      <td>-3.056536e-08</td>\n",
       "      <td>2.422277e-09</td>\n",
       "      <td>3.385509e-09</td>\n",
       "      <td>1.637275e+09</td>\n",
       "    </tr>\n",
       "  </tbody>\n",
       "</table>\n",
       "</div>"
      ],
      "text/plain": [
       "             N0            Nt            pH    PetalCount         Alpha\n",
       "0 -6.022439e-09 -1.000878e-08  7.931866e-10  1.108602e-09  5.000000e+09\n",
       "1 -7.961310e-09 -1.323101e-08  1.048546e-09  1.465506e-09  3.782317e+09\n",
       "2 -1.052438e-08 -1.749062e-08  1.386116e-09  1.937313e-09  2.861184e+09\n",
       "3 -1.391262e-08 -2.312157e-08  1.832364e-09  2.561014e-09  2.164381e+09\n",
       "4 -1.839166e-08 -3.056536e-08  2.422277e-09  3.385509e-09  1.637275e+09"
      ]
     },
     "execution_count": 476,
     "metadata": {},
     "output_type": "execute_result"
    }
   ],
   "source": [
    "# Forming a Data Frame of Coefficients(B0(N0), B1(Nt), B2(pH), B3(PC)), also involving alpha Values\n",
    "coefs_df = pd.DataFrame(coefs, columns=X.columns.values) \n",
    "coefs_df['Alpha'] = pd.DataFrame(alphas)\n",
    "\n",
    "coefs_df.head()"
   ]
  },
  {
   "cell_type": "markdown",
   "metadata": {
    "deletable": true,
    "editable": true
   },
   "source": [
    "##### Plot for Ridge Regression"
   ]
  },
  {
   "cell_type": "code",
   "execution_count": 477,
   "metadata": {
    "collapsed": false,
    "deletable": true,
    "editable": true
   },
   "outputs": [
    {
     "data": {
      "text/plain": [
       "<matplotlib.text.Text at 0x7f4d11bacc18>"
      ]
     },
     "execution_count": 477,
     "metadata": {},
     "output_type": "execute_result"
    },
    {
     "data": {
      "image/png": "[encoded data removed]",
      "text/plain": [
       "<matplotlib.figure.Figure at 0x7f4d11bd1ba8>"
      ]
     },
     "metadata": {},
     "output_type": "display_data"
    }
   ],
   "source": [
    "# Plotting Graphs -\n",
    "ax = plt.gca()  # to get the instance of plot\n",
    "ax.plot(alphas, coefs)\n",
    "ax.set_xscale('log')   # need on log scale because of huge variation in alpha\n",
    "plt.axis('tight')      # Just holds the position of \n",
    "plt.xlabel('alpha')\n",
    "plt.ylabel('weights')"
   ]
  },
  {
   "cell_type": "markdown",
   "metadata": {
    "deletable": true,
    "editable": true
   },
   "source": [
    "\n",
    "### Using Cross - Validation Package for further Ridge Regression"
   ]
  },
  {
   "cell_type": "code",
   "execution_count": 478,
   "metadata": {
    "collapsed": true,
    "deletable": true,
    "editable": true
   },
   "outputs": [],
   "source": [
    "# Using the Cross-Validation Package to split data into Training and Testing Sets\n",
    "X_train, X_test, Y_train, Y_test = cross_validation.train_test_split(X, Y, test_size=0.5, random_state=1)"
   ]
  },
  {
   "cell_type": "markdown",
   "metadata": {
    "deletable": true,
    "editable": true
   },
   "source": [
    "###  Ridge Regression 2 - "
   ]
  },
  {
   "cell_type": "markdown",
   "metadata": {
    "deletable": true,
    "editable": true
   },
   "source": [
    "##### --- Using specific alpha Value - randomly chosen"
   ]
  },
  {
   "cell_type": "code",
   "execution_count": 479,
   "metadata": {
    "collapsed": false,
    "deletable": true,
    "editable": true
   },
   "outputs": [
    {
     "data": {
      "text/plain": [
       "Ridge(alpha=10, copy_X=True, fit_intercept=True, max_iter=None,\n",
       "   normalize=True, random_state=None, solver='auto', tol=0.001)"
      ]
     },
     "execution_count": 479,
     "metadata": {},
     "output_type": "execute_result"
    }
   ],
   "source": [
    "# Fitting into Ridge Model using specific value of alpha = 10\n",
    "ridge2 = Ridge(alpha=10, normalize=True)\n",
    "ridge2.fit(X_train, Y_train)"
   ]
  },
  {
   "cell_type": "code",
   "execution_count": 480,
   "metadata": {
    "collapsed": false,
    "deletable": true,
    "editable": true,
    "scrolled": true
   },
   "outputs": [
    {
     "name": "stdout",
     "output_type": "stream",
     "text": [
      "N0           -2.006325\n",
      "Nt           -4.491225\n",
      "pH            3.405050\n",
      "PetalCount    0.978187\n",
      "dtype: float64\n",
      "1747.28367063\n"
     ]
    }
   ],
   "source": [
    "# Getting Predictions for Ridge(Test) as compared with the Ridge(Training)\n",
    "pred2 = ridge2.predict(X_test)\n",
    "\n",
    "print(pd.Series(ridge2.coef_, index=X.columns))\n",
    "print(mean_squared_error(Y_test, pred2))"
   ]
  },
  {
   "cell_type": "markdown",
   "metadata": {
    "deletable": true,
    "editable": true
   },
   "source": [
    "###  Ridge Regression 3 - "
   ]
  },
  {
   "cell_type": "markdown",
   "metadata": {
    "deletable": true,
    "editable": true
   },
   "source": [
    "##### --- Finding the perfect alpha Value for an ideal Ridge Model"
   ]
  },
  {
   "cell_type": "code",
   "execution_count": 481,
   "metadata": {
    "collapsed": true,
    "deletable": true,
    "editable": true
   },
   "outputs": [
    {
     "name": "stderr",
     "output_type": "stream",
     "text": [
      "/home/user/StackRoute/Linear_Regression_Model/lib/python3.6/site-packages/sklearn/metrics/scorer.py:90: DeprecationWarning:\n",
      "\n",
      "Scoring method mean_squared_error was renamed to neg_mean_squared_error in version 0.18 and will be removed in 0.20.\n",
      "\n",
      "/home/user/StackRoute/Linear_Regression_Model/lib/python3.6/site-packages/sklearn/metrics/scorer.py:90: DeprecationWarning:\n",
      "\n",
      "Scoring method mean_squared_error was renamed to neg_mean_squared_error in version 0.18 and will be removed in 0.20.\n",
      "\n",
      "/home/user/StackRoute/Linear_Regression_Model/lib/python3.6/site-packages/sklearn/metrics/scorer.py:90: DeprecationWarning:\n",
      "\n",
      "Scoring method mean_squared_error was renamed to neg_mean_squared_error in version 0.18 and will be removed in 0.20.\n",
      "\n",
      "/home/user/StackRoute/Linear_Regression_Model/lib/python3.6/site-packages/sklearn/metrics/scorer.py:90: DeprecationWarning:\n",
      "\n",
      "Scoring method mean_squared_error was renamed to neg_mean_squared_error in version 0.18 and will be removed in 0.20.\n",
      "\n",
      "/home/user/StackRoute/Linear_Regression_Model/lib/python3.6/site-packages/sklearn/metrics/scorer.py:90: DeprecationWarning:\n",
      "\n",
      "Scoring method mean_squared_error was renamed to neg_mean_squared_error in version 0.18 and will be removed in 0.20.\n",
      "\n",
      "/home/user/StackRoute/Linear_Regression_Model/lib/python3.6/site-packages/sklearn/metrics/scorer.py:90: DeprecationWarning:\n",
      "\n",
      "Scoring method mean_squared_error was renamed to neg_mean_squared_error in version 0.18 and will be removed in 0.20.\n",
      "\n",
      "/home/user/StackRoute/Linear_Regression_Model/lib/python3.6/site-packages/sklearn/metrics/scorer.py:90: DeprecationWarning:\n",
      "\n",
      "Scoring method mean_squared_error was renamed to neg_mean_squared_error in version 0.18 and will be removed in 0.20.\n",
      "\n",
      "/home/user/StackRoute/Linear_Regression_Model/lib/python3.6/site-packages/sklearn/metrics/scorer.py:90: DeprecationWarning:\n",
      "\n",
      "Scoring method mean_squared_error was renamed to neg_mean_squared_error in version 0.18 and will be removed in 0.20.\n",
      "\n",
      "/home/user/StackRoute/Linear_Regression_Model/lib/python3.6/site-packages/sklearn/metrics/scorer.py:90: DeprecationWarning:\n",
      "\n",
      "Scoring method mean_squared_error was renamed to neg_mean_squared_error in version 0.18 and will be removed in 0.20.\n",
      "\n",
      "/home/user/StackRoute/Linear_Regression_Model/lib/python3.6/site-packages/sklearn/metrics/scorer.py:90: DeprecationWarning:\n",
      "\n",
      "Scoring method mean_squared_error was renamed to neg_mean_squared_error in version 0.18 and will be removed in 0.20.\n",
      "\n",
      "/home/user/StackRoute/Linear_Regression_Model/lib/python3.6/site-packages/sklearn/metrics/scorer.py:90: DeprecationWarning:\n",
      "\n",
      "Scoring method mean_squared_error was renamed to neg_mean_squared_error in version 0.18 and will be removed in 0.20.\n",
      "\n",
      "/home/user/StackRoute/Linear_Regression_Model/lib/python3.6/site-packages/sklearn/metrics/scorer.py:90: DeprecationWarning:\n",
      "\n",
      "Scoring method mean_squared_error was renamed to neg_mean_squared_error in version 0.18 and will be removed in 0.20.\n",
      "\n",
      "/home/user/StackRoute/Linear_Regression_Model/lib/python3.6/site-packages/sklearn/metrics/scorer.py:90: DeprecationWarning:\n",
      "\n",
      "Scoring method mean_squared_error was renamed to neg_mean_squared_error in version 0.18 and will be removed in 0.20.\n",
      "\n",
      "/home/user/StackRoute/Linear_Regression_Model/lib/python3.6/site-packages/sklearn/metrics/scorer.py:90: DeprecationWarning:\n",
      "\n",
      "Scoring method mean_squared_error was renamed to neg_mean_squared_error in version 0.18 and will be removed in 0.20.\n",
      "\n",
      "/home/user/StackRoute/Linear_Regression_Model/lib/python3.6/site-packages/sklearn/metrics/scorer.py:90: DeprecationWarning:\n",
      "\n",
      "Scoring method mean_squared_error was renamed to neg_mean_squared_error in version 0.18 and will be removed in 0.20.\n",
      "\n",
      "/home/user/StackRoute/Linear_Regression_Model/lib/python3.6/site-packages/sklearn/metrics/scorer.py:90: DeprecationWarning:\n",
      "\n",
      "Scoring method mean_squared_error was renamed to neg_mean_squared_error in version 0.18 and will be removed in 0.20.\n",
      "\n",
      "/home/user/StackRoute/Linear_Regression_Model/lib/python3.6/site-packages/sklearn/metrics/scorer.py:90: DeprecationWarning:\n",
      "\n",
      "Scoring method mean_squared_error was renamed to neg_mean_squared_error in version 0.18 and will be removed in 0.20.\n",
      "\n",
      "/home/user/StackRoute/Linear_Regression_Model/lib/python3.6/site-packages/sklearn/metrics/scorer.py:90: DeprecationWarning:\n",
      "\n",
      "Scoring method mean_squared_error was renamed to neg_mean_squared_error in version 0.18 and will be removed in 0.20.\n",
      "\n",
      "/home/user/StackRoute/Linear_Regression_Model/lib/python3.6/site-packages/sklearn/metrics/scorer.py:90: DeprecationWarning:\n",
      "\n",
      "Scoring method mean_squared_error was renamed to neg_mean_squared_error in version 0.18 and will be removed in 0.20.\n",
      "\n",
      "/home/user/StackRoute/Linear_Regression_Model/lib/python3.6/site-packages/sklearn/metrics/scorer.py:90: DeprecationWarning:\n",
      "\n",
      "Scoring method mean_squared_error was renamed to neg_mean_squared_error in version 0.18 and will be removed in 0.20.\n",
      "\n",
      "/home/user/StackRoute/Linear_Regression_Model/lib/python3.6/site-packages/sklearn/metrics/scorer.py:90: DeprecationWarning:\n",
      "\n",
      "Scoring method mean_squared_error was renamed to neg_mean_squared_error in version 0.18 and will be removed in 0.20.\n",
      "\n",
      "/home/user/StackRoute/Linear_Regression_Model/lib/python3.6/site-packages/sklearn/metrics/scorer.py:90: DeprecationWarning:\n",
      "\n",
      "Scoring method mean_squared_error was renamed to neg_mean_squared_error in version 0.18 and will be removed in 0.20.\n",
      "\n",
      "/home/user/StackRoute/Linear_Regression_Model/lib/python3.6/site-packages/sklearn/metrics/scorer.py:90: DeprecationWarning:\n",
      "\n",
      "Scoring method mean_squared_error was renamed to neg_mean_squared_error in version 0.18 and will be removed in 0.20.\n",
      "\n",
      "/home/user/StackRoute/Linear_Regression_Model/lib/python3.6/site-packages/sklearn/metrics/scorer.py:90: DeprecationWarning:\n",
      "\n",
      "Scoring method mean_squared_error was renamed to neg_mean_squared_error in version 0.18 and will be removed in 0.20.\n",
      "\n",
      "/home/user/StackRoute/Linear_Regression_Model/lib/python3.6/site-packages/sklearn/metrics/scorer.py:90: DeprecationWarning:\n",
      "\n",
      "Scoring method mean_squared_error was renamed to neg_mean_squared_error in version 0.18 and will be removed in 0.20.\n",
      "\n",
      "/home/user/StackRoute/Linear_Regression_Model/lib/python3.6/site-packages/sklearn/metrics/scorer.py:90: DeprecationWarning:\n",
      "\n",
      "Scoring method mean_squared_error was renamed to neg_mean_squared_error in version 0.18 and will be removed in 0.20.\n",
      "\n",
      "/home/user/StackRoute/Linear_Regression_Model/lib/python3.6/site-packages/sklearn/metrics/scorer.py:90: DeprecationWarning:\n",
      "\n",
      "Scoring method mean_squared_error was renamed to neg_mean_squared_error in version 0.18 and will be removed in 0.20.\n",
      "\n",
      "/home/user/StackRoute/Linear_Regression_Model/lib/python3.6/site-packages/sklearn/metrics/scorer.py:90: DeprecationWarning:\n",
      "\n",
      "Scoring method mean_squared_error was renamed to neg_mean_squared_error in version 0.18 and will be removed in 0.20.\n",
      "\n",
      "/home/user/StackRoute/Linear_Regression_Model/lib/python3.6/site-packages/sklearn/metrics/scorer.py:90: DeprecationWarning:\n",
      "\n",
      "Scoring method mean_squared_error was renamed to neg_mean_squared_error in version 0.18 and will be removed in 0.20.\n",
      "\n",
      "/home/user/StackRoute/Linear_Regression_Model/lib/python3.6/site-packages/sklearn/metrics/scorer.py:90: DeprecationWarning:\n",
      "\n",
      "Scoring method mean_squared_error was renamed to neg_mean_squared_error in version 0.18 and will be removed in 0.20.\n",
      "\n",
      "/home/user/StackRoute/Linear_Regression_Model/lib/python3.6/site-packages/sklearn/metrics/scorer.py:90: DeprecationWarning:\n",
      "\n",
      "Scoring method mean_squared_error was renamed to neg_mean_squared_error in version 0.18 and will be removed in 0.20.\n",
      "\n",
      "/home/user/StackRoute/Linear_Regression_Model/lib/python3.6/site-packages/sklearn/metrics/scorer.py:90: DeprecationWarning:\n",
      "\n",
      "Scoring method mean_squared_error was renamed to neg_mean_squared_error in version 0.18 and will be removed in 0.20.\n",
      "\n",
      "/home/user/StackRoute/Linear_Regression_Model/lib/python3.6/site-packages/sklearn/metrics/scorer.py:90: DeprecationWarning:\n",
      "\n",
      "Scoring method mean_squared_error was renamed to neg_mean_squared_error in version 0.18 and will be removed in 0.20.\n",
      "\n",
      "/home/user/StackRoute/Linear_Regression_Model/lib/python3.6/site-packages/sklearn/metrics/scorer.py:90: DeprecationWarning:\n",
      "\n",
      "Scoring method mean_squared_error was renamed to neg_mean_squared_error in version 0.18 and will be removed in 0.20.\n",
      "\n",
      "/home/user/StackRoute/Linear_Regression_Model/lib/python3.6/site-packages/sklearn/metrics/scorer.py:90: DeprecationWarning:\n",
      "\n",
      "Scoring method mean_squared_error was renamed to neg_mean_squared_error in version 0.18 and will be removed in 0.20.\n",
      "\n",
      "/home/user/StackRoute/Linear_Regression_Model/lib/python3.6/site-packages/sklearn/metrics/scorer.py:90: DeprecationWarning:\n",
      "\n",
      "Scoring method mean_squared_error was renamed to neg_mean_squared_error in version 0.18 and will be removed in 0.20.\n",
      "\n",
      "/home/user/StackRoute/Linear_Regression_Model/lib/python3.6/site-packages/sklearn/metrics/scorer.py:90: DeprecationWarning:\n",
      "\n",
      "Scoring method mean_squared_error was renamed to neg_mean_squared_error in version 0.18 and will be removed in 0.20.\n",
      "\n",
      "/home/user/StackRoute/Linear_Regression_Model/lib/python3.6/site-packages/sklearn/metrics/scorer.py:90: DeprecationWarning:\n",
      "\n",
      "Scoring method mean_squared_error was renamed to neg_mean_squared_error in version 0.18 and will be removed in 0.20.\n",
      "\n",
      "/home/user/StackRoute/Linear_Regression_Model/lib/python3.6/site-packages/sklearn/metrics/scorer.py:90: DeprecationWarning:\n",
      "\n",
      "Scoring method mean_squared_error was renamed to neg_mean_squared_error in version 0.18 and will be removed in 0.20.\n",
      "\n",
      "/home/user/StackRoute/Linear_Regression_Model/lib/python3.6/site-packages/sklearn/metrics/scorer.py:90: DeprecationWarning:\n",
      "\n",
      "Scoring method mean_squared_error was renamed to neg_mean_squared_error in version 0.18 and will be removed in 0.20.\n",
      "\n",
      "/home/user/StackRoute/Linear_Regression_Model/lib/python3.6/site-packages/sklearn/metrics/scorer.py:90: DeprecationWarning:\n",
      "\n",
      "Scoring method mean_squared_error was renamed to neg_mean_squared_error in version 0.18 and will be removed in 0.20.\n",
      "\n",
      "/home/user/StackRoute/Linear_Regression_Model/lib/python3.6/site-packages/sklearn/metrics/scorer.py:90: DeprecationWarning:\n",
      "\n",
      "Scoring method mean_squared_error was renamed to neg_mean_squared_error in version 0.18 and will be removed in 0.20.\n",
      "\n",
      "/home/user/StackRoute/Linear_Regression_Model/lib/python3.6/site-packages/sklearn/metrics/scorer.py:90: DeprecationWarning:\n",
      "\n",
      "Scoring method mean_squared_error was renamed to neg_mean_squared_error in version 0.18 and will be removed in 0.20.\n",
      "\n",
      "/home/user/StackRoute/Linear_Regression_Model/lib/python3.6/site-packages/sklearn/metrics/scorer.py:90: DeprecationWarning:\n",
      "\n",
      "Scoring method mean_squared_error was renamed to neg_mean_squared_error in version 0.18 and will be removed in 0.20.\n",
      "\n",
      "/home/user/StackRoute/Linear_Regression_Model/lib/python3.6/site-packages/sklearn/metrics/scorer.py:90: DeprecationWarning:\n",
      "\n",
      "Scoring method mean_squared_error was renamed to neg_mean_squared_error in version 0.18 and will be removed in 0.20.\n",
      "\n",
      "/home/user/StackRoute/Linear_Regression_Model/lib/python3.6/site-packages/sklearn/metrics/scorer.py:90: DeprecationWarning:\n",
      "\n",
      "Scoring method mean_squared_error was renamed to neg_mean_squared_error in version 0.18 and will be removed in 0.20.\n",
      "\n",
      "/home/user/StackRoute/Linear_Regression_Model/lib/python3.6/site-packages/sklearn/metrics/scorer.py:90: DeprecationWarning:\n",
      "\n",
      "Scoring method mean_squared_error was renamed to neg_mean_squared_error in version 0.18 and will be removed in 0.20.\n",
      "\n",
      "/home/user/StackRoute/Linear_Regression_Model/lib/python3.6/site-packages/sklearn/metrics/scorer.py:90: DeprecationWarning:\n",
      "\n",
      "Scoring method mean_squared_error was renamed to neg_mean_squared_error in version 0.18 and will be removed in 0.20.\n",
      "\n",
      "/home/user/StackRoute/Linear_Regression_Model/lib/python3.6/site-packages/sklearn/metrics/scorer.py:90: DeprecationWarning:\n",
      "\n",
      "Scoring method mean_squared_error was renamed to neg_mean_squared_error in version 0.18 and will be removed in 0.20.\n",
      "\n",
      "/home/user/StackRoute/Linear_Regression_Model/lib/python3.6/site-packages/sklearn/metrics/scorer.py:90: DeprecationWarning:\n",
      "\n",
      "Scoring method mean_squared_error was renamed to neg_mean_squared_error in version 0.18 and will be removed in 0.20.\n",
      "\n",
      "/home/user/StackRoute/Linear_Regression_Model/lib/python3.6/site-packages/sklearn/metrics/scorer.py:90: DeprecationWarning:\n",
      "\n",
      "Scoring method mean_squared_error was renamed to neg_mean_squared_error in version 0.18 and will be removed in 0.20.\n",
      "\n",
      "/home/user/StackRoute/Linear_Regression_Model/lib/python3.6/site-packages/sklearn/metrics/scorer.py:90: DeprecationWarning:\n",
      "\n",
      "Scoring method mean_squared_error was renamed to neg_mean_squared_error in version 0.18 and will be removed in 0.20.\n",
      "\n",
      "/home/user/StackRoute/Linear_Regression_Model/lib/python3.6/site-packages/sklearn/metrics/scorer.py:90: DeprecationWarning:\n",
      "\n",
      "Scoring method mean_squared_error was renamed to neg_mean_squared_error in version 0.18 and will be removed in 0.20.\n",
      "\n",
      "/home/user/StackRoute/Linear_Regression_Model/lib/python3.6/site-packages/sklearn/metrics/scorer.py:90: DeprecationWarning:\n",
      "\n",
      "Scoring method mean_squared_error was renamed to neg_mean_squared_error in version 0.18 and will be removed in 0.20.\n",
      "\n",
      "/home/user/StackRoute/Linear_Regression_Model/lib/python3.6/site-packages/sklearn/metrics/scorer.py:90: DeprecationWarning:\n",
      "\n",
      "Scoring method mean_squared_error was renamed to neg_mean_squared_error in version 0.18 and will be removed in 0.20.\n",
      "\n",
      "/home/user/StackRoute/Linear_Regression_Model/lib/python3.6/site-packages/sklearn/metrics/scorer.py:90: DeprecationWarning:\n",
      "\n",
      "Scoring method mean_squared_error was renamed to neg_mean_squared_error in version 0.18 and will be removed in 0.20.\n",
      "\n",
      "/home/user/StackRoute/Linear_Regression_Model/lib/python3.6/site-packages/sklearn/metrics/scorer.py:90: DeprecationWarning:\n",
      "\n",
      "Scoring method mean_squared_error was renamed to neg_mean_squared_error in version 0.18 and will be removed in 0.20.\n",
      "\n",
      "/home/user/StackRoute/Linear_Regression_Model/lib/python3.6/site-packages/sklearn/metrics/scorer.py:90: DeprecationWarning:\n",
      "\n",
      "Scoring method mean_squared_error was renamed to neg_mean_squared_error in version 0.18 and will be removed in 0.20.\n",
      "\n",
      "/home/user/StackRoute/Linear_Regression_Model/lib/python3.6/site-packages/sklearn/metrics/scorer.py:90: DeprecationWarning:\n",
      "\n",
      "Scoring method mean_squared_error was renamed to neg_mean_squared_error in version 0.18 and will be removed in 0.20.\n",
      "\n",
      "/home/user/StackRoute/Linear_Regression_Model/lib/python3.6/site-packages/sklearn/metrics/scorer.py:90: DeprecationWarning:\n",
      "\n",
      "Scoring method mean_squared_error was renamed to neg_mean_squared_error in version 0.18 and will be removed in 0.20.\n",
      "\n",
      "/home/user/StackRoute/Linear_Regression_Model/lib/python3.6/site-packages/sklearn/metrics/scorer.py:90: DeprecationWarning:\n",
      "\n",
      "Scoring method mean_squared_error was renamed to neg_mean_squared_error in version 0.18 and will be removed in 0.20.\n",
      "\n",
      "/home/user/StackRoute/Linear_Regression_Model/lib/python3.6/site-packages/sklearn/metrics/scorer.py:90: DeprecationWarning:\n",
      "\n",
      "Scoring method mean_squared_error was renamed to neg_mean_squared_error in version 0.18 and will be removed in 0.20.\n",
      "\n",
      "/home/user/StackRoute/Linear_Regression_Model/lib/python3.6/site-packages/sklearn/metrics/scorer.py:90: DeprecationWarning:\n",
      "\n",
      "Scoring method mean_squared_error was renamed to neg_mean_squared_error in version 0.18 and will be removed in 0.20.\n",
      "\n",
      "/home/user/StackRoute/Linear_Regression_Model/lib/python3.6/site-packages/sklearn/metrics/scorer.py:90: DeprecationWarning:\n",
      "\n",
      "Scoring method mean_squared_error was renamed to neg_mean_squared_error in version 0.18 and will be removed in 0.20.\n",
      "\n",
      "/home/user/StackRoute/Linear_Regression_Model/lib/python3.6/site-packages/sklearn/metrics/scorer.py:90: DeprecationWarning:\n",
      "\n",
      "Scoring method mean_squared_error was renamed to neg_mean_squared_error in version 0.18 and will be removed in 0.20.\n",
      "\n",
      "/home/user/StackRoute/Linear_Regression_Model/lib/python3.6/site-packages/sklearn/metrics/scorer.py:90: DeprecationWarning:\n",
      "\n",
      "Scoring method mean_squared_error was renamed to neg_mean_squared_error in version 0.18 and will be removed in 0.20.\n",
      "\n",
      "/home/user/StackRoute/Linear_Regression_Model/lib/python3.6/site-packages/sklearn/metrics/scorer.py:90: DeprecationWarning:\n",
      "\n",
      "Scoring method mean_squared_error was renamed to neg_mean_squared_error in version 0.18 and will be removed in 0.20.\n",
      "\n",
      "/home/user/StackRoute/Linear_Regression_Model/lib/python3.6/site-packages/sklearn/metrics/scorer.py:90: DeprecationWarning:\n",
      "\n",
      "Scoring method mean_squared_error was renamed to neg_mean_squared_error in version 0.18 and will be removed in 0.20.\n",
      "\n",
      "/home/user/StackRoute/Linear_Regression_Model/lib/python3.6/site-packages/sklearn/metrics/scorer.py:90: DeprecationWarning:\n",
      "\n",
      "Scoring method mean_squared_error was renamed to neg_mean_squared_error in version 0.18 and will be removed in 0.20.\n",
      "\n",
      "/home/user/StackRoute/Linear_Regression_Model/lib/python3.6/site-packages/sklearn/metrics/scorer.py:90: DeprecationWarning:\n",
      "\n",
      "Scoring method mean_squared_error was renamed to neg_mean_squared_error in version 0.18 and will be removed in 0.20.\n",
      "\n",
      "/home/user/StackRoute/Linear_Regression_Model/lib/python3.6/site-packages/sklearn/metrics/scorer.py:90: DeprecationWarning:\n",
      "\n",
      "Scoring method mean_squared_error was renamed to neg_mean_squared_error in version 0.18 and will be removed in 0.20.\n",
      "\n",
      "/home/user/StackRoute/Linear_Regression_Model/lib/python3.6/site-packages/sklearn/metrics/scorer.py:90: DeprecationWarning:\n",
      "\n",
      "Scoring method mean_squared_error was renamed to neg_mean_squared_error in version 0.18 and will be removed in 0.20.\n",
      "\n",
      "/home/user/StackRoute/Linear_Regression_Model/lib/python3.6/site-packages/sklearn/metrics/scorer.py:90: DeprecationWarning:\n",
      "\n",
      "Scoring method mean_squared_error was renamed to neg_mean_squared_error in version 0.18 and will be removed in 0.20.\n",
      "\n",
      "/home/user/StackRoute/Linear_Regression_Model/lib/python3.6/site-packages/sklearn/metrics/scorer.py:90: DeprecationWarning:\n",
      "\n",
      "Scoring method mean_squared_error was renamed to neg_mean_squared_error in version 0.18 and will be removed in 0.20.\n",
      "\n",
      "/home/user/StackRoute/Linear_Regression_Model/lib/python3.6/site-packages/sklearn/metrics/scorer.py:90: DeprecationWarning:\n",
      "\n",
      "Scoring method mean_squared_error was renamed to neg_mean_squared_error in version 0.18 and will be removed in 0.20.\n",
      "\n",
      "/home/user/StackRoute/Linear_Regression_Model/lib/python3.6/site-packages/sklearn/metrics/scorer.py:90: DeprecationWarning:\n",
      "\n",
      "Scoring method mean_squared_error was renamed to neg_mean_squared_error in version 0.18 and will be removed in 0.20.\n",
      "\n",
      "/home/user/StackRoute/Linear_Regression_Model/lib/python3.6/site-packages/sklearn/metrics/scorer.py:90: DeprecationWarning:\n",
      "\n",
      "Scoring method mean_squared_error was renamed to neg_mean_squared_error in version 0.18 and will be removed in 0.20.\n",
      "\n",
      "/home/user/StackRoute/Linear_Regression_Model/lib/python3.6/site-packages/sklearn/metrics/scorer.py:90: DeprecationWarning:\n",
      "\n",
      "Scoring method mean_squared_error was renamed to neg_mean_squared_error in version 0.18 and will be removed in 0.20.\n",
      "\n",
      "/home/user/StackRoute/Linear_Regression_Model/lib/python3.6/site-packages/sklearn/metrics/scorer.py:90: DeprecationWarning:\n",
      "\n",
      "Scoring method mean_squared_error was renamed to neg_mean_squared_error in version 0.18 and will be removed in 0.20.\n",
      "\n",
      "/home/user/StackRoute/Linear_Regression_Model/lib/python3.6/site-packages/sklearn/metrics/scorer.py:90: DeprecationWarning:\n",
      "\n",
      "Scoring method mean_squared_error was renamed to neg_mean_squared_error in version 0.18 and will be removed in 0.20.\n",
      "\n",
      "/home/user/StackRoute/Linear_Regression_Model/lib/python3.6/site-packages/sklearn/metrics/scorer.py:90: DeprecationWarning:\n",
      "\n",
      "Scoring method mean_squared_error was renamed to neg_mean_squared_error in version 0.18 and will be removed in 0.20.\n",
      "\n",
      "/home/user/StackRoute/Linear_Regression_Model/lib/python3.6/site-packages/sklearn/metrics/scorer.py:90: DeprecationWarning:\n",
      "\n",
      "Scoring method mean_squared_error was renamed to neg_mean_squared_error in version 0.18 and will be removed in 0.20.\n",
      "\n",
      "/home/user/StackRoute/Linear_Regression_Model/lib/python3.6/site-packages/sklearn/metrics/scorer.py:90: DeprecationWarning:\n",
      "\n",
      "Scoring method mean_squared_error was renamed to neg_mean_squared_error in version 0.18 and will be removed in 0.20.\n",
      "\n",
      "/home/user/StackRoute/Linear_Regression_Model/lib/python3.6/site-packages/sklearn/metrics/scorer.py:90: DeprecationWarning:\n",
      "\n",
      "Scoring method mean_squared_error was renamed to neg_mean_squared_error in version 0.18 and will be removed in 0.20.\n",
      "\n",
      "/home/user/StackRoute/Linear_Regression_Model/lib/python3.6/site-packages/sklearn/metrics/scorer.py:90: DeprecationWarning:\n",
      "\n",
      "Scoring method mean_squared_error was renamed to neg_mean_squared_error in version 0.18 and will be removed in 0.20.\n",
      "\n",
      "/home/user/StackRoute/Linear_Regression_Model/lib/python3.6/site-packages/sklearn/metrics/scorer.py:90: DeprecationWarning:\n",
      "\n",
      "Scoring method mean_squared_error was renamed to neg_mean_squared_error in version 0.18 and will be removed in 0.20.\n",
      "\n",
      "/home/user/StackRoute/Linear_Regression_Model/lib/python3.6/site-packages/sklearn/metrics/scorer.py:90: DeprecationWarning:\n",
      "\n",
      "Scoring method mean_squared_error was renamed to neg_mean_squared_error in version 0.18 and will be removed in 0.20.\n",
      "\n",
      "/home/user/StackRoute/Linear_Regression_Model/lib/python3.6/site-packages/sklearn/metrics/scorer.py:90: DeprecationWarning:\n",
      "\n",
      "Scoring method mean_squared_error was renamed to neg_mean_squared_error in version 0.18 and will be removed in 0.20.\n",
      "\n",
      "/home/user/StackRoute/Linear_Regression_Model/lib/python3.6/site-packages/sklearn/metrics/scorer.py:90: DeprecationWarning:\n",
      "\n",
      "Scoring method mean_squared_error was renamed to neg_mean_squared_error in version 0.18 and will be removed in 0.20.\n",
      "\n",
      "/home/user/StackRoute/Linear_Regression_Model/lib/python3.6/site-packages/sklearn/metrics/scorer.py:90: DeprecationWarning:\n",
      "\n",
      "Scoring method mean_squared_error was renamed to neg_mean_squared_error in version 0.18 and will be removed in 0.20.\n",
      "\n",
      "/home/user/StackRoute/Linear_Regression_Model/lib/python3.6/site-packages/sklearn/metrics/scorer.py:90: DeprecationWarning:\n",
      "\n",
      "Scoring method mean_squared_error was renamed to neg_mean_squared_error in version 0.18 and will be removed in 0.20.\n",
      "\n",
      "/home/user/StackRoute/Linear_Regression_Model/lib/python3.6/site-packages/sklearn/metrics/scorer.py:90: DeprecationWarning:\n",
      "\n",
      "Scoring method mean_squared_error was renamed to neg_mean_squared_error in version 0.18 and will be removed in 0.20.\n",
      "\n",
      "/home/user/StackRoute/Linear_Regression_Model/lib/python3.6/site-packages/sklearn/metrics/scorer.py:90: DeprecationWarning:\n",
      "\n",
      "Scoring method mean_squared_error was renamed to neg_mean_squared_error in version 0.18 and will be removed in 0.20.\n",
      "\n",
      "/home/user/StackRoute/Linear_Regression_Model/lib/python3.6/site-packages/sklearn/metrics/scorer.py:90: DeprecationWarning:\n",
      "\n",
      "Scoring method mean_squared_error was renamed to neg_mean_squared_error in version 0.18 and will be removed in 0.20.\n",
      "\n",
      "/home/user/StackRoute/Linear_Regression_Model/lib/python3.6/site-packages/sklearn/metrics/scorer.py:90: DeprecationWarning:\n",
      "\n",
      "Scoring method mean_squared_error was renamed to neg_mean_squared_error in version 0.18 and will be removed in 0.20.\n",
      "\n",
      "/home/user/StackRoute/Linear_Regression_Model/lib/python3.6/site-packages/sklearn/metrics/scorer.py:90: DeprecationWarning:\n",
      "\n",
      "Scoring method mean_squared_error was renamed to neg_mean_squared_error in version 0.18 and will be removed in 0.20.\n",
      "\n",
      "/home/user/StackRoute/Linear_Regression_Model/lib/python3.6/site-packages/sklearn/metrics/scorer.py:90: DeprecationWarning:\n",
      "\n",
      "Scoring method mean_squared_error was renamed to neg_mean_squared_error in version 0.18 and will be removed in 0.20.\n",
      "\n",
      "/home/user/StackRoute/Linear_Regression_Model/lib/python3.6/site-packages/sklearn/metrics/scorer.py:90: DeprecationWarning:\n",
      "\n",
      "Scoring method mean_squared_error was renamed to neg_mean_squared_error in version 0.18 and will be removed in 0.20.\n",
      "\n",
      "/home/user/StackRoute/Linear_Regression_Model/lib/python3.6/site-packages/sklearn/metrics/scorer.py:90: DeprecationWarning:\n",
      "\n",
      "Scoring method mean_squared_error was renamed to neg_mean_squared_error in version 0.18 and will be removed in 0.20.\n",
      "\n",
      "/home/user/StackRoute/Linear_Regression_Model/lib/python3.6/site-packages/sklearn/metrics/scorer.py:90: DeprecationWarning:\n",
      "\n",
      "Scoring method mean_squared_error was renamed to neg_mean_squared_error in version 0.18 and will be removed in 0.20.\n",
      "\n"
     ]
    },
    {
     "data": {
      "text/plain": [
       "0.0050000000000000001"
      ]
     },
     "execution_count": 481,
     "metadata": {},
     "output_type": "execute_result"
    }
   ],
   "source": [
    "# Fiting the data in a Cross_Val Ridge Model to get the perfect alpha value for a ideal model\n",
    "ridge_cv = RidgeCV(alphas=alphas, scoring='mean_squared_error', normalize=True)\n",
    "ridge_cv.fit(X_train, Y_train)\n",
    "# Deducted perfect value of alpha for best ridge model\n",
    "ridge_cv.alpha_"
   ]
  },
  {
   "cell_type": "code",
   "execution_count": 482,
   "metadata": {
    "collapsed": false,
    "deletable": true,
    "editable": true
   },
   "outputs": [
    {
     "data": {
      "text/plain": [
       "Ridge(alpha=0.0050000000000000001, copy_X=True, fit_intercept=True,\n",
       "   max_iter=None, normalize=True, random_state=None, solver='auto',\n",
       "   tol=0.001)"
      ]
     },
     "execution_count": 482,
     "metadata": {},
     "output_type": "execute_result"
    }
   ],
   "source": [
    "ridge3 = Ridge(alpha=ridge_cv.alpha_, normalize=True)\n",
    "ridge3.fit(X_train, Y_train)"
   ]
  },
  {
   "cell_type": "code",
   "execution_count": 483,
   "metadata": {
    "collapsed": false,
    "deletable": true,
    "editable": true
   },
   "outputs": [
    {
     "name": "stdout",
     "output_type": "stream",
     "text": [
      "N0             1.949761\n",
      "Nt           -49.070932\n",
      "pH             4.651837\n",
      "PetalCount     5.040667\n",
      "dtype: float64\n",
      "70.7055845853\n"
     ]
    }
   ],
   "source": [
    "pred3 = ridge3.predict(X_test)\n",
    "\n",
    "print(pd.Series(ridge3.coef_, index=X.columns))\n",
    "print(mean_squared_error(Y_test, pred3))\n"
   ]
  },
  {
   "cell_type": "markdown",
   "metadata": {
    "deletable": true,
    "editable": true
   },
   "source": [
    "### Plotly"
   ]
  },
  {
   "cell_type": "code",
   "execution_count": 484,
   "metadata": {
    "collapsed": false,
    "deletable": true,
    "editable": true
   },
   "outputs": [],
   "source": [
    "# Traces\n",
    "trace0 = go.Scatter(\n",
    "    x = coefs_df.Alpha,\n",
    "    y = coefs_df.N0,\n",
    "    name = 'B0 (N0)',\n",
    "    line = dict(\n",
    "        color = ('rgb(205, 12, 24)'),\n",
    "        width = 4)\n",
    ")\n",
    "trace1 = go.Scatter(\n",
    "    x = coefs_df.Alpha,\n",
    "    y = coefs_df.Nt,\n",
    "    name = 'B1 (Nt)',\n",
    "    line = dict(\n",
    "        color = ('rgb(22, 96, 167)'),\n",
    "        width = 4,)\n",
    ")\n",
    "trace2 = go.Scatter(\n",
    "    x = coefs_df.Alpha,\n",
    "    y = coefs_df.pH,\n",
    "    name = 'B2 (pH)',\n",
    "    line = dict(\n",
    "        color = ('rgb(205, 12, 24)'),\n",
    "        width = 4,\n",
    "        dash = 'dash') # dash options include 'dash', 'dot', and 'dashdot'\n",
    ")\n",
    "trace3 = go.Scatter(\n",
    "    x = coefs_df.Alpha,\n",
    "    y = coefs_df.PetalCount,\n",
    "    name = 'B3 (PetalCount)',\n",
    "    line = dict(\n",
    "        color = ('rgb(22, 96, 167)'),\n",
    "        width = 4,\n",
    "        dash = 'dash')\n",
    ")"
   ]
  },
  {
   "cell_type": "code",
   "execution_count": 485,
   "metadata": {
    "collapsed": false,
    "deletable": true,
    "editable": true
   },
   "outputs": [
    {
     "data": {
      "text/plain": [
       "'file:///home/user/StackRoute/Linear_Regression_Model/temp-plot.html'"
      ]
     },
     "execution_count": 485,
     "metadata": {},
     "output_type": "execute_result"
    }
   ],
   "source": [
    "data1 = [trace0, trace1, trace2, trace3]\n",
    "\n",
    "layout = dict(title = 'Alpha vs weights',\n",
    "              xaxis = dict(title = 'Alpha'),\n",
    "              yaxis = dict(title = 'Weights'),\n",
    "              )\n",
    "fig = dict(data=traces, layout=layout)\n",
    "plot(fig)"
   ]
  },
  {
   "cell_type": "markdown",
   "metadata": {
    "deletable": true,
    "editable": true
   },
   "source": [
    "### Lasso Regression"
   ]
  },
  {
   "cell_type": "code",
   "execution_count": 486,
   "metadata": {
    "collapsed": false,
    "deletable": true,
    "editable": true
   },
   "outputs": [
    {
     "data": {
      "text/plain": [
       "74.321996373710334"
      ]
     },
     "execution_count": 486,
     "metadata": {},
     "output_type": "execute_result"
    },
    {
     "data": {
      "image/png": "[encoded data removed]",
      "text/plain": [
       "<matplotlib.figure.Figure at 0x7f4d11b847b8>"
      ]
     },
     "metadata": {},
     "output_type": "display_data"
    }
   ],
   "source": [
    "lasso = Lasso(max_iter=10000, normalize=True)\n",
    "coefs = []\n",
    "\n",
    "\n",
    "for a in alphas:\n",
    "    lasso.set_params(alpha=a)\n",
    "    lasso.fit(scale(X_train), Y_train)\n",
    "    coefs.append(lasso.coef_)\n",
    "    \n",
    "ax = plt.gca()\n",
    "ax.plot(alphas*2, coefs)\n",
    "ax.set_xscale('log')\n",
    "plt.axis('tight')\n",
    "plt.xlabel('alpha')\n",
    "plt.ylabel('weights')    \n",
    "\n",
    "lassocv = LassoCV(alphas=None, cv=10, max_iter=100000, normalize=True)\n",
    "lassocv.fit(X_train, Y_train)\n",
    "lasso.set_params(alpha=lassocv.alpha_)\n",
    "lasso.fit(X_train, Y_train)\n",
    "mean_squared_error(Y_test, lasso.predict(X_test))"
   ]
  },
  {
   "cell_type": "markdown",
   "metadata": {
    "deletable": true,
    "editable": true
   },
   "source": [
    "#### Plotly"
   ]
  },
  {
   "cell_type": "code",
   "execution_count": 487,
   "metadata": {
    "collapsed": true,
    "deletable": true,
    "editable": true
   },
   "outputs": [],
   "source": [
    "# Traces\n",
    "trace0 = go.Scatter(\n",
    "    x = coefs_df.Alpha,\n",
    "    y = coefs_df.N0,\n",
    "    name = 'B0 (N0)',\n",
    "    line = dict(\n",
    "        color = ('rgb(205, 12, 24)'),\n",
    "        width = 4)\n",
    ")\n",
    "trace1 = go.Scatter(\n",
    "    x = coefs_df.Alpha,\n",
    "    y = coefs_df.Nt,\n",
    "    name = 'B1 (Nt)',\n",
    "    line = dict(\n",
    "        color = ('rgb(22, 96, 167)'),\n",
    "        width = 4,)\n",
    ")\n",
    "trace2 = go.Scatter(\n",
    "    x = coefs_df.Alpha,\n",
    "    y = coefs_df.pH,\n",
    "    name = 'B2 (pH)',\n",
    "    line = dict(\n",
    "        color = ('rgb(205, 12, 24)'),\n",
    "        width = 4,\n",
    "        dash = 'dash') # dash options include 'dash', 'dot', and 'dashdot'\n",
    ")\n",
    "trace3 = go.Scatter(\n",
    "    x = coefs_df.Alpha,\n",
    "    y = coefs_df.PetalCount,\n",
    "    name = 'B3 (PetalCount)',\n",
    "    line = dict(\n",
    "        color = ('rgb(22, 96, 167)'),\n",
    "        width = 4,\n",
    "        dash = 'dash')\n",
    ")"
   ]
  },
  {
   "cell_type": "code",
   "execution_count": 488,
   "metadata": {
    "collapsed": false,
    "deletable": true,
    "editable": true
   },
   "outputs": [
    {
     "data": {
      "text/plain": [
       "'file:///home/user/StackRoute/Linear_Regression_Model/temp-plot.html'"
      ]
     },
     "execution_count": 488,
     "metadata": {},
     "output_type": "execute_result"
    }
   ],
   "source": [
    "data1 = [trace0, trace1, trace2, trace3]\n",
    "\n",
    "layout = dict(title = 'Alpha vs weights',\n",
    "              xaxis = dict(title = 'Alpha'),\n",
    "              yaxis = dict(title = 'Weights'),\n",
    "              )\n",
    "fig = dict(data=traces, layout=layout)\n",
    "plot(fig)"
   ]
  },
  {
   "cell_type": "markdown",
   "metadata": {
    "deletable": true,
    "editable": true
   },
   "source": [
    "# Conclusion"
   ]
  },
  {
   "cell_type": "markdown",
   "metadata": {
    "deletable": true,
    "editable": true
   },
   "source": [
    "This clearly shows that on using all the features we get a RMSE Score of 9.69, while on using Nt and PetalCount Features, the RMSE Score decreases to 9.51, and on futher droping the PetalCount and using only one feature, Nt, the RMSE Score increases again to 9.62, so as a conclusion, we can select 'Nt' and 'PetalCount' OR only 'Nt' feature as the required features for this analysis.\n",
    "\n",
    "On further analysis, using the OLS Method, the one with only 'Nt' feature selected shows the least error and so that case is taken for further examination. \n",
    "\n",
    "Predicting the values using log of Nt gives accurate results, and also a line with approx y = x equation. \n",
    "\n",
    "Box plot for each and every case also shows that Nt feature selection gives us the most balanced model, while others tend to produce a over-predictive models.\n",
    "\n",
    "So Feature Selected is Nt.\n",
    "\n",
    "Age of wood can be predicted using this feature and has been shown above."
   ]
  }
 ],
 "metadata": {
  "kernelspec": {
   "display_name": "Python 3",
   "language": "python",
   "name": "python3"
  },
  "language_info": {
   "codemirror_mode": {
    "name": "ipython",
    "version": 3
   },
   "file_extension": ".py",
   "mimetype": "text/x-python",
   "name": "python",
   "nbconvert_exporter": "python",
   "pygments_lexer": "ipython3",
   "version": "3.6.0"
  }
 },
 "nbformat": 4,
 "nbformat_minor": 2
}
